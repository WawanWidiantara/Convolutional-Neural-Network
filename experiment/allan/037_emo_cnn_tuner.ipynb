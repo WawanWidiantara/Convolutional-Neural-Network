{
  "nbformat": 4,
  "nbformat_minor": 0,
  "metadata": {
    "colab": {
      "provenance": []
    },
    "kernelspec": {
      "name": "python3",
      "display_name": "Python 3"
    },
    "language_info": {
      "name": "python"
    },
    "accelerator": "TPU"
  },
  "cells": [
    {
      "cell_type": "code",
      "source": [
        "!pip install keras-tuner"
      ],
      "metadata": {
        "colab": {
          "base_uri": "https://localhost:8080/"
        },
        "id": "awlHfuuvsBUN",
        "outputId": "0985cd79-b63e-47dd-c77c-6e7d5206f532"
      },
      "execution_count": 1,
      "outputs": [
        {
          "output_type": "stream",
          "name": "stdout",
          "text": [
            "Collecting keras-tuner\n",
            "  Downloading keras_tuner-1.4.6-py3-none-any.whl (128 kB)\n",
            "\u001b[2K     \u001b[90m━━━━━━━━━━━━━━━━━━━━━━━━━━━━━━━━━━━━━━━━\u001b[0m \u001b[32m128.9/128.9 kB\u001b[0m \u001b[31m1.1 MB/s\u001b[0m eta \u001b[36m0:00:00\u001b[0m\n",
            "\u001b[?25hRequirement already satisfied: keras in /usr/local/lib/python3.10/dist-packages (from keras-tuner) (2.12.0)\n",
            "Requirement already satisfied: packaging in /usr/local/lib/python3.10/dist-packages (from keras-tuner) (23.2)\n",
            "Requirement already satisfied: requests in /usr/local/lib/python3.10/dist-packages (from keras-tuner) (2.31.0)\n",
            "Collecting kt-legacy (from keras-tuner)\n",
            "  Downloading kt_legacy-1.0.5-py3-none-any.whl (9.6 kB)\n",
            "Requirement already satisfied: charset-normalizer<4,>=2 in /usr/local/lib/python3.10/dist-packages (from requests->keras-tuner) (3.3.2)\n",
            "Requirement already satisfied: idna<4,>=2.5 in /usr/local/lib/python3.10/dist-packages (from requests->keras-tuner) (3.6)\n",
            "Requirement already satisfied: urllib3<3,>=1.21.1 in /usr/local/lib/python3.10/dist-packages (from requests->keras-tuner) (2.0.7)\n",
            "Requirement already satisfied: certifi>=2017.4.17 in /usr/local/lib/python3.10/dist-packages (from requests->keras-tuner) (2023.11.17)\n",
            "Installing collected packages: kt-legacy, keras-tuner\n",
            "Successfully installed keras-tuner-1.4.6 kt-legacy-1.0.5\n"
          ]
        }
      ]
    },
    {
      "cell_type": "code",
      "execution_count": 2,
      "metadata": {
        "colab": {
          "base_uri": "https://localhost:8080/"
        },
        "id": "VqF1Q3A_rUNR",
        "outputId": "e9e9ea81-bef6-4b21-95ef-ed9d54734b0f"
      },
      "outputs": [
        {
          "output_type": "stream",
          "name": "stderr",
          "text": [
            "<ipython-input-2-2cb6d5d07068>:6: DeprecationWarning: `import kerastuner` is deprecated, please use `import keras_tuner`.\n",
            "  from kerastuner.tuners import RandomSearch\n"
          ]
        }
      ],
      "source": [
        "import tensorflow as tf\n",
        "from tensorflow.keras.preprocessing.image import ImageDataGenerator\n",
        "from tensorflow.keras.layers import Dense, GlobalAveragePooling2D\n",
        "from tensorflow.keras.models import Model\n",
        "from tensorflow.keras.applications import MobileNetV3Large\n",
        "from kerastuner.tuners import RandomSearch\n",
        "from tensorflow.keras import layers\n",
        "from sklearn.metrics import classification_report, accuracy_score"
      ]
    },
    {
      "cell_type": "code",
      "source": [
        "# Path dataset\n",
        "train_dir = '/content/drive/MyDrive/Univ/Semester 5/JST/CNN/train'\n",
        "test_dir = '/content/drive/MyDrive/Univ/Semester 5/JST/CNN/test'"
      ],
      "metadata": {
        "id": "FKPooHiprZAp"
      },
      "execution_count": 3,
      "outputs": []
    },
    {
      "cell_type": "code",
      "source": [
        "# Pengolahan data\n",
        "train_datagen = ImageDataGenerator(rescale=1./255)\n",
        "test_datagen = ImageDataGenerator(rescale=1./255)\n",
        "\n",
        "train_generator = train_datagen.flow_from_directory(\n",
        "    train_dir,\n",
        "    target_size=(48, 48),\n",
        "    batch_size=32,\n",
        "    class_mode='categorical'\n",
        ")\n",
        "\n",
        "test_generator = test_datagen.flow_from_directory(\n",
        "    test_dir,\n",
        "    target_size=(48, 48),\n",
        "    batch_size=32,\n",
        "    class_mode='categorical'\n",
        ")"
      ],
      "metadata": {
        "colab": {
          "base_uri": "https://localhost:8080/"
        },
        "id": "waoQ_HzhrZ4X",
        "outputId": "31501e6c-f41b-4d5f-d069-373ccb482dae"
      },
      "execution_count": 4,
      "outputs": [
        {
          "output_type": "stream",
          "name": "stdout",
          "text": [
            "Found 2278 images belonging to 3 classes.\n",
            "Found 569 images belonging to 3 classes.\n"
          ]
        }
      ]
    },
    {
      "cell_type": "code",
      "source": [
        "# Membangun model CNN menggunakan MobileNetV3 sebagai base model\n",
        "def build_model(hp):\n",
        "    base_model = MobileNetV3Large(weights='imagenet', include_top=False, input_shape=(48, 48, 3))\n",
        "    x = base_model.output\n",
        "    x = GlobalAveragePooling2D()(x)\n",
        "    x = Dense(hp.Int('units', min_value=32, max_value=512, step=32), activation='relu')(x)\n",
        "    predictions = Dense(3, activation='softmax')(x)\n",
        "\n",
        "    model = Model(inputs=base_model.input, outputs=predictions)\n",
        "    model.compile(optimizer=tf.keras.optimizers.Adam(learning_rate=hp.Choice('learning_rate', values=[1e-2, 1e-3, 1e-4])),\n",
        "                  loss='categorical_crossentropy',\n",
        "                  metrics=['accuracy'])\n",
        "    return model"
      ],
      "metadata": {
        "id": "RpA_8VIirahm"
      },
      "execution_count": 5,
      "outputs": []
    },
    {
      "cell_type": "code",
      "source": [
        "tuner = RandomSearch(\n",
        "    build_model,\n",
        "    objective='val_accuracy',\n",
        "    max_trials=5,\n",
        "    directory='tuner',\n",
        "    project_name='emotion_classification'\n",
        ")"
      ],
      "metadata": {
        "colab": {
          "base_uri": "https://localhost:8080/"
        },
        "id": "NMr70QNNrdiP",
        "outputId": "5466b6a5-77d8-4869-b919-e5245b54755f"
      },
      "execution_count": 6,
      "outputs": [
        {
          "output_type": "stream",
          "name": "stderr",
          "text": [
            "WARNING:tensorflow:`input_shape` is undefined or non-square, or `rows` is not 224. Weights for input shape (224, 224) will be loaded as the default.\n"
          ]
        },
        {
          "output_type": "stream",
          "name": "stdout",
          "text": [
            "Downloading data from https://storage.googleapis.com/tensorflow/keras-applications/mobilenet_v3/weights_mobilenet_v3_large_224_1.0_float_no_top_v2.h5\n",
            "12683000/12683000 [==============================] - 0s 0us/step\n"
          ]
        }
      ]
    },
    {
      "cell_type": "code",
      "source": [
        "tuner.search(train_generator, epochs=10, validation_data=test_generator)"
      ],
      "metadata": {
        "colab": {
          "base_uri": "https://localhost:8080/"
        },
        "id": "cprEL7Cqreb6",
        "outputId": "52cb6d35-58b7-4e35-9459-531d18388368"
      },
      "execution_count": 7,
      "outputs": [
        {
          "output_type": "stream",
          "name": "stdout",
          "text": [
            "Trial 5 Complete [00h 06m 46s]\n",
            "val_accuracy: 0.2671353220939636\n",
            "\n",
            "Best val_accuracy So Far: 0.3743409514427185\n",
            "Total elapsed time: 00h 41m 12s\n"
          ]
        }
      ]
    },
    {
      "cell_type": "code",
      "source": [
        "# Ambil model terbaik dari pencarian tuner\n",
        "best_model = tuner.get_best_models(1)[0]"
      ],
      "metadata": {
        "id": "v8u7TDQqrfAT",
        "colab": {
          "base_uri": "https://localhost:8080/"
        },
        "outputId": "2d5a4f6f-c206-438a-9662-ea6819ddc753"
      },
      "execution_count": 8,
      "outputs": [
        {
          "output_type": "stream",
          "name": "stderr",
          "text": [
            "WARNING:tensorflow:`input_shape` is undefined or non-square, or `rows` is not 224. Weights for input shape (224, 224) will be loaded as the default.\n"
          ]
        }
      ]
    },
    {
      "cell_type": "code",
      "source": [
        "# Memprediksi label kelas dari data uji\n",
        "predictions = best_model.predict(test_generator)"
      ],
      "metadata": {
        "id": "9amSJZoFrhJ1",
        "colab": {
          "base_uri": "https://localhost:8080/"
        },
        "outputId": "d98d26bb-047e-481b-d63f-b83f3b9a09d0"
      },
      "execution_count": 9,
      "outputs": [
        {
          "output_type": "stream",
          "name": "stdout",
          "text": [
            "18/18 [==============================] - 4s 168ms/step\n"
          ]
        }
      ]
    },
    {
      "cell_type": "code",
      "source": [
        "# Mendapatkan kelas yang diprediksi untuk setiap sampel\n",
        "predicted_classes = tf.argmax(predictions, axis=1)"
      ],
      "metadata": {
        "id": "zG_hpjrMspAd"
      },
      "execution_count": 10,
      "outputs": []
    },
    {
      "cell_type": "code",
      "source": [
        "# Mendapatkan label sebenarnya dari data uji\n",
        "true_classes = test_generator.classes"
      ],
      "metadata": {
        "id": "FMzaoDxGsqxq"
      },
      "execution_count": 11,
      "outputs": []
    },
    {
      "cell_type": "code",
      "source": [
        "# Evaluasi performa model\n",
        "print(\"Accuracy:\", accuracy_score(true_classes, predicted_classes))\n",
        "print(\"Classification Report:\\n\", classification_report(true_classes, predicted_classes))"
      ],
      "metadata": {
        "id": "fa5lO5bCsrxK",
        "colab": {
          "base_uri": "https://localhost:8080/"
        },
        "outputId": "882a144f-7c7f-4c71-a51b-9902b1b91e11"
      },
      "execution_count": 12,
      "outputs": [
        {
          "output_type": "stream",
          "name": "stdout",
          "text": [
            "Accuracy: 0.37434094903339193\n",
            "Classification Report:\n",
            "               precision    recall  f1-score   support\n",
            "\n",
            "           0       0.37      1.00      0.54       213\n",
            "           1       0.00      0.00      0.00       207\n",
            "           2       0.00      0.00      0.00       149\n",
            "\n",
            "    accuracy                           0.37       569\n",
            "   macro avg       0.12      0.33      0.18       569\n",
            "weighted avg       0.14      0.37      0.20       569\n",
            "\n"
          ]
        },
        {
          "output_type": "stream",
          "name": "stderr",
          "text": [
            "/usr/local/lib/python3.10/dist-packages/sklearn/metrics/_classification.py:1344: UndefinedMetricWarning: Precision and F-score are ill-defined and being set to 0.0 in labels with no predicted samples. Use `zero_division` parameter to control this behavior.\n",
            "  _warn_prf(average, modifier, msg_start, len(result))\n",
            "/usr/local/lib/python3.10/dist-packages/sklearn/metrics/_classification.py:1344: UndefinedMetricWarning: Precision and F-score are ill-defined and being set to 0.0 in labels with no predicted samples. Use `zero_division` parameter to control this behavior.\n",
            "  _warn_prf(average, modifier, msg_start, len(result))\n",
            "/usr/local/lib/python3.10/dist-packages/sklearn/metrics/_classification.py:1344: UndefinedMetricWarning: Precision and F-score are ill-defined and being set to 0.0 in labels with no predicted samples. Use `zero_division` parameter to control this behavior.\n",
            "  _warn_prf(average, modifier, msg_start, len(result))\n"
          ]
        }
      ]
    },
    {
      "cell_type": "code",
      "source": [
        "# Menampilkan grafik akurasi selama pelatihan model terbaik\n",
        "history = best_model.fit(train_generator, epochs=10, validation_data=test_generator)\n",
        "\n",
        "import matplotlib.pyplot as plt\n",
        "\n",
        "plt.plot(history.history['accuracy'])\n",
        "plt.plot(history.history['val_accuracy'])\n",
        "plt.title('Model Accuracy')\n",
        "plt.xlabel('Epoch')\n",
        "plt.ylabel('Accuracy')\n",
        "plt.legend(['Train', 'Test'], loc='upper left')\n",
        "plt.show()"
      ],
      "metadata": {
        "id": "2DkOgvHqtm_G",
        "colab": {
          "base_uri": "https://localhost:8080/",
          "height": 829
        },
        "outputId": "5f913716-36ce-42fa-e750-6f459aa5643d"
      },
      "execution_count": 13,
      "outputs": [
        {
          "output_type": "stream",
          "name": "stdout",
          "text": [
            "Epoch 1/10\n",
            "72/72 [==============================] - 57s 499ms/step - loss: 0.9869 - accuracy: 0.5329 - val_loss: 1.1793 - val_accuracy: 0.3743\n",
            "Epoch 2/10\n",
            "72/72 [==============================] - 34s 469ms/step - loss: 0.8483 - accuracy: 0.6168 - val_loss: 1.1797 - val_accuracy: 0.3743\n",
            "Epoch 3/10\n",
            "72/72 [==============================] - 34s 479ms/step - loss: 0.7415 - accuracy: 0.6870 - val_loss: 1.2036 - val_accuracy: 0.3743\n",
            "Epoch 4/10\n",
            "72/72 [==============================] - 35s 485ms/step - loss: 0.6366 - accuracy: 0.7327 - val_loss: 1.1877 - val_accuracy: 0.3743\n",
            "Epoch 5/10\n",
            "72/72 [==============================] - 35s 481ms/step - loss: 0.5697 - accuracy: 0.7704 - val_loss: 1.1704 - val_accuracy: 0.3761\n",
            "Epoch 6/10\n",
            "72/72 [==============================] - 35s 483ms/step - loss: 0.5199 - accuracy: 0.7888 - val_loss: 1.2237 - val_accuracy: 0.3743\n",
            "Epoch 7/10\n",
            "72/72 [==============================] - 37s 516ms/step - loss: 0.4670 - accuracy: 0.8205 - val_loss: 1.2256 - val_accuracy: 0.3743\n",
            "Epoch 8/10\n",
            "72/72 [==============================] - 35s 480ms/step - loss: 0.4175 - accuracy: 0.8428 - val_loss: 1.2046 - val_accuracy: 0.3743\n",
            "Epoch 9/10\n",
            "72/72 [==============================] - 34s 474ms/step - loss: 0.3763 - accuracy: 0.8556 - val_loss: 1.2344 - val_accuracy: 0.3216\n",
            "Epoch 10/10\n",
            "72/72 [==============================] - 34s 468ms/step - loss: 0.3750 - accuracy: 0.8551 - val_loss: 1.2445 - val_accuracy: 0.3673\n"
          ]
        },
        {
          "output_type": "display_data",
          "data": {
            "text/plain": [
              "<Figure size 640x480 with 1 Axes>"
            ],
            "image/png": "[encoded data removed]"
          },
          "metadata": {}
        }
      ]
    }
  ]
}