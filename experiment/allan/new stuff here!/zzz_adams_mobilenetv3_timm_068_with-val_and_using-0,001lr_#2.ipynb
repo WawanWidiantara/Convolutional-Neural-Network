{
  "cells": [
    {
      "cell_type": "code",
      "execution_count": 1,
      "metadata": {
        "colab": {
          "base_uri": "https://localhost:8080/"
        },
        "id": "AdEy2qbCEbHP",
        "outputId": "e33b6201-73f9-4ae6-e16d-79eb56297b9c"
      },
      "outputs": [
        {
          "output_type": "stream",
          "name": "stdout",
          "text": [
            "Mounted at /content/drive\n"
          ]
        }
      ],
      "source": [
        "from google.colab import drive\n",
        "drive.mount('/content/drive')"
      ]
    },
    {
      "cell_type": "code",
      "execution_count": 2,
      "metadata": {
        "colab": {
          "base_uri": "https://localhost:8080/"
        },
        "id": "hAsYeEZgEgJs",
        "outputId": "4ffa4e22-b870-4825-fa9a-1ca607594a1b"
      },
      "outputs": [
        {
          "output_type": "stream",
          "name": "stdout",
          "text": [
            "Requirement already satisfied: torch in /usr/local/lib/python3.10/dist-packages (2.1.0+cu121)\n",
            "Requirement already satisfied: torchvision in /usr/local/lib/python3.10/dist-packages (0.16.0+cu121)\n",
            "Collecting timm\n",
            "  Downloading timm-0.9.12-py3-none-any.whl (2.2 MB)\n",
            "\u001b[2K     \u001b[90m━━━━━━━━━━━━━━━━━━━━━━━━━━━━━━━━━━━━━━━━\u001b[0m \u001b[32m2.2/2.2 MB\u001b[0m \u001b[31m11.1 MB/s\u001b[0m eta \u001b[36m0:00:00\u001b[0m\n",
            "\u001b[?25hRequirement already satisfied: filelock in /usr/local/lib/python3.10/dist-packages (from torch) (3.13.1)\n",
            "Requirement already satisfied: typing-extensions in /usr/local/lib/python3.10/dist-packages (from torch) (4.5.0)\n",
            "Requirement already satisfied: sympy in /usr/local/lib/python3.10/dist-packages (from torch) (1.12)\n",
            "Requirement already satisfied: networkx in /usr/local/lib/python3.10/dist-packages (from torch) (3.2.1)\n",
            "Requirement already satisfied: jinja2 in /usr/local/lib/python3.10/dist-packages (from torch) (3.1.2)\n",
            "Requirement already satisfied: fsspec in /usr/local/lib/python3.10/dist-packages (from torch) (2023.6.0)\n",
            "Requirement already satisfied: triton==2.1.0 in /usr/local/lib/python3.10/dist-packages (from torch) (2.1.0)\n",
            "Requirement already satisfied: numpy in /usr/local/lib/python3.10/dist-packages (from torchvision) (1.23.5)\n",
            "Requirement already satisfied: requests in /usr/local/lib/python3.10/dist-packages (from torchvision) (2.31.0)\n",
            "Requirement already satisfied: pillow!=8.3.*,>=5.3.0 in /usr/local/lib/python3.10/dist-packages (from torchvision) (9.4.0)\n",
            "Requirement already satisfied: pyyaml in /usr/local/lib/python3.10/dist-packages (from timm) (6.0.1)\n",
            "Requirement already satisfied: huggingface-hub in /usr/local/lib/python3.10/dist-packages (from timm) (0.19.4)\n",
            "Requirement already satisfied: safetensors in /usr/local/lib/python3.10/dist-packages (from timm) (0.4.1)\n",
            "Requirement already satisfied: tqdm>=4.42.1 in /usr/local/lib/python3.10/dist-packages (from huggingface-hub->timm) (4.66.1)\n",
            "Requirement already satisfied: packaging>=20.9 in /usr/local/lib/python3.10/dist-packages (from huggingface-hub->timm) (23.2)\n",
            "Requirement already satisfied: MarkupSafe>=2.0 in /usr/local/lib/python3.10/dist-packages (from jinja2->torch) (2.1.3)\n",
            "Requirement already satisfied: charset-normalizer<4,>=2 in /usr/local/lib/python3.10/dist-packages (from requests->torchvision) (3.3.2)\n",
            "Requirement already satisfied: idna<4,>=2.5 in /usr/local/lib/python3.10/dist-packages (from requests->torchvision) (3.6)\n",
            "Requirement already satisfied: urllib3<3,>=1.21.1 in /usr/local/lib/python3.10/dist-packages (from requests->torchvision) (2.0.7)\n",
            "Requirement already satisfied: certifi>=2017.4.17 in /usr/local/lib/python3.10/dist-packages (from requests->torchvision) (2023.11.17)\n",
            "Requirement already satisfied: mpmath>=0.19 in /usr/local/lib/python3.10/dist-packages (from sympy->torch) (1.3.0)\n",
            "Installing collected packages: timm\n",
            "Successfully installed timm-0.9.12\n"
          ]
        }
      ],
      "source": [
        "# Install necessary libraries\n",
        "!pip install torch torchvision timm"
      ]
    },
    {
      "cell_type": "code",
      "execution_count": 87,
      "metadata": {
        "id": "SEukYZJEEhw3"
      },
      "outputs": [],
      "source": [
        "# Import libraries\n",
        "import torch\n",
        "import torch.nn as nn\n",
        "import torch.optim as optim\n",
        "import matplotlib.pyplot as plt\n",
        "import numpy as np\n",
        "from torchsummary import summary\n",
        "from torch.utils.data import DataLoader\n",
        "from torchvision import transforms, datasets\n",
        "from sklearn.metrics import f1_score\n",
        "from timm import create_model\n",
        "from torch.cuda.amp import autocast, GradScaler\n",
        "from torch.optim.lr_scheduler import StepLR\n",
        "\n",
        "# Confusion Matrix\n",
        "from sklearn.metrics import confusion_matrix\n",
        "import seaborn as sns\n",
        "import matplotlib.pyplot as plt"
      ]
    },
    {
      "cell_type": "code",
      "execution_count": 275,
      "metadata": {
        "id": "ig3DugK4Eiuo"
      },
      "outputs": [],
      "source": [
        "# Define constants\n",
        "data_dir = '/content/drive/MyDrive'  # Replace with the actual path\n",
        "batch_size = 32\n",
        "learning_rate = 0.001\n",
        "epochs = 10\n",
        "fine_tune_epochs = 5\n",
        "image_size = (112, 112)  # Change this to the desired size"
      ]
    },
    {
      "cell_type": "code",
      "execution_count": 276,
      "metadata": {
        "id": "U_49fLfTEjfW"
      },
      "outputs": [],
      "source": [
        "# Define data transformations with increased augmentation\n",
        "transform = transforms.Compose([\n",
        "    transforms.RandomResizedCrop(image_size, scale=(0.8, 1.0)),\n",
        "    transforms.RandomHorizontalFlip(),\n",
        "    transforms.RandomVerticalFlip(),\n",
        "    transforms.RandomRotation(30),\n",
        "    transforms.ColorJitter(brightness=0.2, contrast=0.2, saturation=0.2, hue=0.2),\n",
        "    transforms.ToTensor(),\n",
        "])"
      ]
    },
    {
      "cell_type": "code",
      "execution_count": 277,
      "metadata": {
        "id": "GuGRhlrZEmB6"
      },
      "outputs": [],
      "source": [
        "# Load dataset\n",
        "train_dataset = datasets.ImageFolder(root=data_dir + '/train', transform=transform)\n",
        "test_dataset = datasets.ImageFolder(root=data_dir + '/test', transform=transform)"
      ]
    },
    {
      "cell_type": "code",
      "source": [
        "# Split the dataset into training and validation sets\n",
        "validation_split = 0.2\n",
        "dataset_size = len(train_dataset)\n",
        "split = int(np.floor(validation_split * dataset_size))\n",
        "indices = list(range(dataset_size))\n",
        "np.random.shuffle(indices)\n",
        "train_indices, val_indices = indices[split:], indices[:split]\n",
        "\n",
        "# Create data loaders for training and validation sets\n",
        "train_sampler = torch.utils.data.sampler.SubsetRandomSampler(train_indices)\n",
        "val_sampler = torch.utils.data.sampler.SubsetRandomSampler(val_indices)\n",
        "\n",
        "train_loader = DataLoader(train_dataset, batch_size=batch_size, sampler=train_sampler)\n",
        "val_loader = DataLoader(train_dataset, batch_size=batch_size, sampler=val_sampler)"
      ],
      "metadata": {
        "id": "xhuums6HLfLg"
      },
      "execution_count": 278,
      "outputs": []
    },
    {
      "cell_type": "code",
      "execution_count": 279,
      "metadata": {
        "id": "XfBxbR9WEnk0"
      },
      "outputs": [],
      "source": [
        "# Create data loaders\n",
        "test_loader = DataLoader(test_dataset, batch_size=batch_size, shuffle=False)"
      ]
    },
    {
      "cell_type": "code",
      "execution_count": 280,
      "metadata": {
        "id": "x7zuEfR6Eoq-"
      },
      "outputs": [],
      "source": [
        "# Check if GPU is available\n",
        "device = torch.device('cuda' if torch.cuda.is_available() else 'cpu')"
      ]
    },
    {
      "cell_type": "code",
      "execution_count": 281,
      "metadata": {
        "colab": {
          "base_uri": "https://localhost:8080/"
        },
        "id": "WW0fJfzLEpxa",
        "outputId": "75f9c657-e2bf-45ea-9952-c5858d04d096"
      },
      "outputs": [
        {
          "output_type": "execute_result",
          "data": {
            "text/plain": [
              "MobileNetV3(\n",
              "  (conv_stem): Conv2d(3, 16, kernel_size=(3, 3), stride=(2, 2), padding=(1, 1), bias=False)\n",
              "  (bn1): BatchNormAct2d(\n",
              "    16, eps=1e-05, momentum=0.1, affine=True, track_running_stats=True\n",
              "    (drop): Identity()\n",
              "    (act): Hardswish()\n",
              "  )\n",
              "  (blocks): Sequential(\n",
              "    (0): Sequential(\n",
              "      (0): DepthwiseSeparableConv(\n",
              "        (conv_dw): Conv2d(16, 16, kernel_size=(3, 3), stride=(1, 1), padding=(1, 1), groups=16, bias=False)\n",
              "        (bn1): BatchNormAct2d(\n",
              "          16, eps=1e-05, momentum=0.1, affine=True, track_running_stats=True\n",
              "          (drop): Identity()\n",
              "          (act): ReLU(inplace=True)\n",
              "        )\n",
              "        (se): Identity()\n",
              "        (conv_pw): Conv2d(16, 16, kernel_size=(1, 1), stride=(1, 1), bias=False)\n",
              "        (bn2): BatchNormAct2d(\n",
              "          16, eps=1e-05, momentum=0.1, affine=True, track_running_stats=True\n",
              "          (drop): Identity()\n",
              "          (act): Identity()\n",
              "        )\n",
              "        (drop_path): Identity()\n",
              "      )\n",
              "    )\n",
              "    (1): Sequential(\n",
              "      (0): InvertedResidual(\n",
              "        (conv_pw): Conv2d(16, 64, kernel_size=(1, 1), stride=(1, 1), bias=False)\n",
              "        (bn1): BatchNormAct2d(\n",
              "          64, eps=1e-05, momentum=0.1, affine=True, track_running_stats=True\n",
              "          (drop): Identity()\n",
              "          (act): ReLU(inplace=True)\n",
              "        )\n",
              "        (conv_dw): Conv2d(64, 64, kernel_size=(3, 3), stride=(2, 2), padding=(1, 1), groups=64, bias=False)\n",
              "        (bn2): BatchNormAct2d(\n",
              "          64, eps=1e-05, momentum=0.1, affine=True, track_running_stats=True\n",
              "          (drop): Identity()\n",
              "          (act): ReLU(inplace=True)\n",
              "        )\n",
              "        (se): Identity()\n",
              "        (conv_pwl): Conv2d(64, 24, kernel_size=(1, 1), stride=(1, 1), bias=False)\n",
              "        (bn3): BatchNormAct2d(\n",
              "          24, eps=1e-05, momentum=0.1, affine=True, track_running_stats=True\n",
              "          (drop): Identity()\n",
              "          (act): Identity()\n",
              "        )\n",
              "        (drop_path): Identity()\n",
              "      )\n",
              "      (1): InvertedResidual(\n",
              "        (conv_pw): Conv2d(24, 72, kernel_size=(1, 1), stride=(1, 1), bias=False)\n",
              "        (bn1): BatchNormAct2d(\n",
              "          72, eps=1e-05, momentum=0.1, affine=True, track_running_stats=True\n",
              "          (drop): Identity()\n",
              "          (act): ReLU(inplace=True)\n",
              "        )\n",
              "        (conv_dw): Conv2d(72, 72, kernel_size=(3, 3), stride=(1, 1), padding=(1, 1), groups=72, bias=False)\n",
              "        (bn2): BatchNormAct2d(\n",
              "          72, eps=1e-05, momentum=0.1, affine=True, track_running_stats=True\n",
              "          (drop): Identity()\n",
              "          (act): ReLU(inplace=True)\n",
              "        )\n",
              "        (se): Identity()\n",
              "        (conv_pwl): Conv2d(72, 24, kernel_size=(1, 1), stride=(1, 1), bias=False)\n",
              "        (bn3): BatchNormAct2d(\n",
              "          24, eps=1e-05, momentum=0.1, affine=True, track_running_stats=True\n",
              "          (drop): Identity()\n",
              "          (act): Identity()\n",
              "        )\n",
              "        (drop_path): Identity()\n",
              "      )\n",
              "    )\n",
              "    (2): Sequential(\n",
              "      (0): InvertedResidual(\n",
              "        (conv_pw): Conv2d(24, 72, kernel_size=(1, 1), stride=(1, 1), bias=False)\n",
              "        (bn1): BatchNormAct2d(\n",
              "          72, eps=1e-05, momentum=0.1, affine=True, track_running_stats=True\n",
              "          (drop): Identity()\n",
              "          (act): ReLU(inplace=True)\n",
              "        )\n",
              "        (conv_dw): Conv2d(72, 72, kernel_size=(5, 5), stride=(2, 2), padding=(2, 2), groups=72, bias=False)\n",
              "        (bn2): BatchNormAct2d(\n",
              "          72, eps=1e-05, momentum=0.1, affine=True, track_running_stats=True\n",
              "          (drop): Identity()\n",
              "          (act): ReLU(inplace=True)\n",
              "        )\n",
              "        (se): SqueezeExcite(\n",
              "          (conv_reduce): Conv2d(72, 24, kernel_size=(1, 1), stride=(1, 1))\n",
              "          (act1): ReLU(inplace=True)\n",
              "          (conv_expand): Conv2d(24, 72, kernel_size=(1, 1), stride=(1, 1))\n",
              "          (gate): Hardsigmoid()\n",
              "        )\n",
              "        (conv_pwl): Conv2d(72, 40, kernel_size=(1, 1), stride=(1, 1), bias=False)\n",
              "        (bn3): BatchNormAct2d(\n",
              "          40, eps=1e-05, momentum=0.1, affine=True, track_running_stats=True\n",
              "          (drop): Identity()\n",
              "          (act): Identity()\n",
              "        )\n",
              "        (drop_path): Identity()\n",
              "      )\n",
              "      (1): InvertedResidual(\n",
              "        (conv_pw): Conv2d(40, 120, kernel_size=(1, 1), stride=(1, 1), bias=False)\n",
              "        (bn1): BatchNormAct2d(\n",
              "          120, eps=1e-05, momentum=0.1, affine=True, track_running_stats=True\n",
              "          (drop): Identity()\n",
              "          (act): ReLU(inplace=True)\n",
              "        )\n",
              "        (conv_dw): Conv2d(120, 120, kernel_size=(5, 5), stride=(1, 1), padding=(2, 2), groups=120, bias=False)\n",
              "        (bn2): BatchNormAct2d(\n",
              "          120, eps=1e-05, momentum=0.1, affine=True, track_running_stats=True\n",
              "          (drop): Identity()\n",
              "          (act): ReLU(inplace=True)\n",
              "        )\n",
              "        (se): SqueezeExcite(\n",
              "          (conv_reduce): Conv2d(120, 32, kernel_size=(1, 1), stride=(1, 1))\n",
              "          (act1): ReLU(inplace=True)\n",
              "          (conv_expand): Conv2d(32, 120, kernel_size=(1, 1), stride=(1, 1))\n",
              "          (gate): Hardsigmoid()\n",
              "        )\n",
              "        (conv_pwl): Conv2d(120, 40, kernel_size=(1, 1), stride=(1, 1), bias=False)\n",
              "        (bn3): BatchNormAct2d(\n",
              "          40, eps=1e-05, momentum=0.1, affine=True, track_running_stats=True\n",
              "          (drop): Identity()\n",
              "          (act): Identity()\n",
              "        )\n",
              "        (drop_path): Identity()\n",
              "      )\n",
              "      (2): InvertedResidual(\n",
              "        (conv_pw): Conv2d(40, 120, kernel_size=(1, 1), stride=(1, 1), bias=False)\n",
              "        (bn1): BatchNormAct2d(\n",
              "          120, eps=1e-05, momentum=0.1, affine=True, track_running_stats=True\n",
              "          (drop): Identity()\n",
              "          (act): ReLU(inplace=True)\n",
              "        )\n",
              "        (conv_dw): Conv2d(120, 120, kernel_size=(5, 5), stride=(1, 1), padding=(2, 2), groups=120, bias=False)\n",
              "        (bn2): BatchNormAct2d(\n",
              "          120, eps=1e-05, momentum=0.1, affine=True, track_running_stats=True\n",
              "          (drop): Identity()\n",
              "          (act): ReLU(inplace=True)\n",
              "        )\n",
              "        (se): SqueezeExcite(\n",
              "          (conv_reduce): Conv2d(120, 32, kernel_size=(1, 1), stride=(1, 1))\n",
              "          (act1): ReLU(inplace=True)\n",
              "          (conv_expand): Conv2d(32, 120, kernel_size=(1, 1), stride=(1, 1))\n",
              "          (gate): Hardsigmoid()\n",
              "        )\n",
              "        (conv_pwl): Conv2d(120, 40, kernel_size=(1, 1), stride=(1, 1), bias=False)\n",
              "        (bn3): BatchNormAct2d(\n",
              "          40, eps=1e-05, momentum=0.1, affine=True, track_running_stats=True\n",
              "          (drop): Identity()\n",
              "          (act): Identity()\n",
              "        )\n",
              "        (drop_path): Identity()\n",
              "      )\n",
              "    )\n",
              "    (3): Sequential(\n",
              "      (0): InvertedResidual(\n",
              "        (conv_pw): Conv2d(40, 240, kernel_size=(1, 1), stride=(1, 1), bias=False)\n",
              "        (bn1): BatchNormAct2d(\n",
              "          240, eps=1e-05, momentum=0.1, affine=True, track_running_stats=True\n",
              "          (drop): Identity()\n",
              "          (act): Hardswish()\n",
              "        )\n",
              "        (conv_dw): Conv2d(240, 240, kernel_size=(3, 3), stride=(2, 2), padding=(1, 1), groups=240, bias=False)\n",
              "        (bn2): BatchNormAct2d(\n",
              "          240, eps=1e-05, momentum=0.1, affine=True, track_running_stats=True\n",
              "          (drop): Identity()\n",
              "          (act): Hardswish()\n",
              "        )\n",
              "        (se): Identity()\n",
              "        (conv_pwl): Conv2d(240, 80, kernel_size=(1, 1), stride=(1, 1), bias=False)\n",
              "        (bn3): BatchNormAct2d(\n",
              "          80, eps=1e-05, momentum=0.1, affine=True, track_running_stats=True\n",
              "          (drop): Identity()\n",
              "          (act): Identity()\n",
              "        )\n",
              "        (drop_path): Identity()\n",
              "      )\n",
              "      (1): InvertedResidual(\n",
              "        (conv_pw): Conv2d(80, 200, kernel_size=(1, 1), stride=(1, 1), bias=False)\n",
              "        (bn1): BatchNormAct2d(\n",
              "          200, eps=1e-05, momentum=0.1, affine=True, track_running_stats=True\n",
              "          (drop): Identity()\n",
              "          (act): Hardswish()\n",
              "        )\n",
              "        (conv_dw): Conv2d(200, 200, kernel_size=(3, 3), stride=(1, 1), padding=(1, 1), groups=200, bias=False)\n",
              "        (bn2): BatchNormAct2d(\n",
              "          200, eps=1e-05, momentum=0.1, affine=True, track_running_stats=True\n",
              "          (drop): Identity()\n",
              "          (act): Hardswish()\n",
              "        )\n",
              "        (se): Identity()\n",
              "        (conv_pwl): Conv2d(200, 80, kernel_size=(1, 1), stride=(1, 1), bias=False)\n",
              "        (bn3): BatchNormAct2d(\n",
              "          80, eps=1e-05, momentum=0.1, affine=True, track_running_stats=True\n",
              "          (drop): Identity()\n",
              "          (act): Identity()\n",
              "        )\n",
              "        (drop_path): Identity()\n",
              "      )\n",
              "      (2): InvertedResidual(\n",
              "        (conv_pw): Conv2d(80, 184, kernel_size=(1, 1), stride=(1, 1), bias=False)\n",
              "        (bn1): BatchNormAct2d(\n",
              "          184, eps=1e-05, momentum=0.1, affine=True, track_running_stats=True\n",
              "          (drop): Identity()\n",
              "          (act): Hardswish()\n",
              "        )\n",
              "        (conv_dw): Conv2d(184, 184, kernel_size=(3, 3), stride=(1, 1), padding=(1, 1), groups=184, bias=False)\n",
              "        (bn2): BatchNormAct2d(\n",
              "          184, eps=1e-05, momentum=0.1, affine=True, track_running_stats=True\n",
              "          (drop): Identity()\n",
              "          (act): Hardswish()\n",
              "        )\n",
              "        (se): Identity()\n",
              "        (conv_pwl): Conv2d(184, 80, kernel_size=(1, 1), stride=(1, 1), bias=False)\n",
              "        (bn3): BatchNormAct2d(\n",
              "          80, eps=1e-05, momentum=0.1, affine=True, track_running_stats=True\n",
              "          (drop): Identity()\n",
              "          (act): Identity()\n",
              "        )\n",
              "        (drop_path): Identity()\n",
              "      )\n",
              "      (3): InvertedResidual(\n",
              "        (conv_pw): Conv2d(80, 184, kernel_size=(1, 1), stride=(1, 1), bias=False)\n",
              "        (bn1): BatchNormAct2d(\n",
              "          184, eps=1e-05, momentum=0.1, affine=True, track_running_stats=True\n",
              "          (drop): Identity()\n",
              "          (act): Hardswish()\n",
              "        )\n",
              "        (conv_dw): Conv2d(184, 184, kernel_size=(3, 3), stride=(1, 1), padding=(1, 1), groups=184, bias=False)\n",
              "        (bn2): BatchNormAct2d(\n",
              "          184, eps=1e-05, momentum=0.1, affine=True, track_running_stats=True\n",
              "          (drop): Identity()\n",
              "          (act): Hardswish()\n",
              "        )\n",
              "        (se): Identity()\n",
              "        (conv_pwl): Conv2d(184, 80, kernel_size=(1, 1), stride=(1, 1), bias=False)\n",
              "        (bn3): BatchNormAct2d(\n",
              "          80, eps=1e-05, momentum=0.1, affine=True, track_running_stats=True\n",
              "          (drop): Identity()\n",
              "          (act): Identity()\n",
              "        )\n",
              "        (drop_path): Identity()\n",
              "      )\n",
              "    )\n",
              "    (4): Sequential(\n",
              "      (0): InvertedResidual(\n",
              "        (conv_pw): Conv2d(80, 480, kernel_size=(1, 1), stride=(1, 1), bias=False)\n",
              "        (bn1): BatchNormAct2d(\n",
              "          480, eps=1e-05, momentum=0.1, affine=True, track_running_stats=True\n",
              "          (drop): Identity()\n",
              "          (act): Hardswish()\n",
              "        )\n",
              "        (conv_dw): Conv2d(480, 480, kernel_size=(3, 3), stride=(1, 1), padding=(1, 1), groups=480, bias=False)\n",
              "        (bn2): BatchNormAct2d(\n",
              "          480, eps=1e-05, momentum=0.1, affine=True, track_running_stats=True\n",
              "          (drop): Identity()\n",
              "          (act): Hardswish()\n",
              "        )\n",
              "        (se): SqueezeExcite(\n",
              "          (conv_reduce): Conv2d(480, 120, kernel_size=(1, 1), stride=(1, 1))\n",
              "          (act1): ReLU(inplace=True)\n",
              "          (conv_expand): Conv2d(120, 480, kernel_size=(1, 1), stride=(1, 1))\n",
              "          (gate): Hardsigmoid()\n",
              "        )\n",
              "        (conv_pwl): Conv2d(480, 112, kernel_size=(1, 1), stride=(1, 1), bias=False)\n",
              "        (bn3): BatchNormAct2d(\n",
              "          112, eps=1e-05, momentum=0.1, affine=True, track_running_stats=True\n",
              "          (drop): Identity()\n",
              "          (act): Identity()\n",
              "        )\n",
              "        (drop_path): Identity()\n",
              "      )\n",
              "      (1): InvertedResidual(\n",
              "        (conv_pw): Conv2d(112, 672, kernel_size=(1, 1), stride=(1, 1), bias=False)\n",
              "        (bn1): BatchNormAct2d(\n",
              "          672, eps=1e-05, momentum=0.1, affine=True, track_running_stats=True\n",
              "          (drop): Identity()\n",
              "          (act): Hardswish()\n",
              "        )\n",
              "        (conv_dw): Conv2d(672, 672, kernel_size=(3, 3), stride=(1, 1), padding=(1, 1), groups=672, bias=False)\n",
              "        (bn2): BatchNormAct2d(\n",
              "          672, eps=1e-05, momentum=0.1, affine=True, track_running_stats=True\n",
              "          (drop): Identity()\n",
              "          (act): Hardswish()\n",
              "        )\n",
              "        (se): SqueezeExcite(\n",
              "          (conv_reduce): Conv2d(672, 168, kernel_size=(1, 1), stride=(1, 1))\n",
              "          (act1): ReLU(inplace=True)\n",
              "          (conv_expand): Conv2d(168, 672, kernel_size=(1, 1), stride=(1, 1))\n",
              "          (gate): Hardsigmoid()\n",
              "        )\n",
              "        (conv_pwl): Conv2d(672, 112, kernel_size=(1, 1), stride=(1, 1), bias=False)\n",
              "        (bn3): BatchNormAct2d(\n",
              "          112, eps=1e-05, momentum=0.1, affine=True, track_running_stats=True\n",
              "          (drop): Identity()\n",
              "          (act): Identity()\n",
              "        )\n",
              "        (drop_path): Identity()\n",
              "      )\n",
              "    )\n",
              "    (5): Sequential(\n",
              "      (0): InvertedResidual(\n",
              "        (conv_pw): Conv2d(112, 672, kernel_size=(1, 1), stride=(1, 1), bias=False)\n",
              "        (bn1): BatchNormAct2d(\n",
              "          672, eps=1e-05, momentum=0.1, affine=True, track_running_stats=True\n",
              "          (drop): Identity()\n",
              "          (act): Hardswish()\n",
              "        )\n",
              "        (conv_dw): Conv2d(672, 672, kernel_size=(5, 5), stride=(2, 2), padding=(2, 2), groups=672, bias=False)\n",
              "        (bn2): BatchNormAct2d(\n",
              "          672, eps=1e-05, momentum=0.1, affine=True, track_running_stats=True\n",
              "          (drop): Identity()\n",
              "          (act): Hardswish()\n",
              "        )\n",
              "        (se): SqueezeExcite(\n",
              "          (conv_reduce): Conv2d(672, 168, kernel_size=(1, 1), stride=(1, 1))\n",
              "          (act1): ReLU(inplace=True)\n",
              "          (conv_expand): Conv2d(168, 672, kernel_size=(1, 1), stride=(1, 1))\n",
              "          (gate): Hardsigmoid()\n",
              "        )\n",
              "        (conv_pwl): Conv2d(672, 160, kernel_size=(1, 1), stride=(1, 1), bias=False)\n",
              "        (bn3): BatchNormAct2d(\n",
              "          160, eps=1e-05, momentum=0.1, affine=True, track_running_stats=True\n",
              "          (drop): Identity()\n",
              "          (act): Identity()\n",
              "        )\n",
              "        (drop_path): Identity()\n",
              "      )\n",
              "      (1): InvertedResidual(\n",
              "        (conv_pw): Conv2d(160, 960, kernel_size=(1, 1), stride=(1, 1), bias=False)\n",
              "        (bn1): BatchNormAct2d(\n",
              "          960, eps=1e-05, momentum=0.1, affine=True, track_running_stats=True\n",
              "          (drop): Identity()\n",
              "          (act): Hardswish()\n",
              "        )\n",
              "        (conv_dw): Conv2d(960, 960, kernel_size=(5, 5), stride=(1, 1), padding=(2, 2), groups=960, bias=False)\n",
              "        (bn2): BatchNormAct2d(\n",
              "          960, eps=1e-05, momentum=0.1, affine=True, track_running_stats=True\n",
              "          (drop): Identity()\n",
              "          (act): Hardswish()\n",
              "        )\n",
              "        (se): SqueezeExcite(\n",
              "          (conv_reduce): Conv2d(960, 240, kernel_size=(1, 1), stride=(1, 1))\n",
              "          (act1): ReLU(inplace=True)\n",
              "          (conv_expand): Conv2d(240, 960, kernel_size=(1, 1), stride=(1, 1))\n",
              "          (gate): Hardsigmoid()\n",
              "        )\n",
              "        (conv_pwl): Conv2d(960, 160, kernel_size=(1, 1), stride=(1, 1), bias=False)\n",
              "        (bn3): BatchNormAct2d(\n",
              "          160, eps=1e-05, momentum=0.1, affine=True, track_running_stats=True\n",
              "          (drop): Identity()\n",
              "          (act): Identity()\n",
              "        )\n",
              "        (drop_path): Identity()\n",
              "      )\n",
              "      (2): InvertedResidual(\n",
              "        (conv_pw): Conv2d(160, 960, kernel_size=(1, 1), stride=(1, 1), bias=False)\n",
              "        (bn1): BatchNormAct2d(\n",
              "          960, eps=1e-05, momentum=0.1, affine=True, track_running_stats=True\n",
              "          (drop): Identity()\n",
              "          (act): Hardswish()\n",
              "        )\n",
              "        (conv_dw): Conv2d(960, 960, kernel_size=(5, 5), stride=(1, 1), padding=(2, 2), groups=960, bias=False)\n",
              "        (bn2): BatchNormAct2d(\n",
              "          960, eps=1e-05, momentum=0.1, affine=True, track_running_stats=True\n",
              "          (drop): Identity()\n",
              "          (act): Hardswish()\n",
              "        )\n",
              "        (se): SqueezeExcite(\n",
              "          (conv_reduce): Conv2d(960, 240, kernel_size=(1, 1), stride=(1, 1))\n",
              "          (act1): ReLU(inplace=True)\n",
              "          (conv_expand): Conv2d(240, 960, kernel_size=(1, 1), stride=(1, 1))\n",
              "          (gate): Hardsigmoid()\n",
              "        )\n",
              "        (conv_pwl): Conv2d(960, 160, kernel_size=(1, 1), stride=(1, 1), bias=False)\n",
              "        (bn3): BatchNormAct2d(\n",
              "          160, eps=1e-05, momentum=0.1, affine=True, track_running_stats=True\n",
              "          (drop): Identity()\n",
              "          (act): Identity()\n",
              "        )\n",
              "        (drop_path): Identity()\n",
              "      )\n",
              "    )\n",
              "    (6): Sequential(\n",
              "      (0): ConvBnAct(\n",
              "        (conv): Conv2d(160, 960, kernel_size=(1, 1), stride=(1, 1), bias=False)\n",
              "        (bn1): BatchNormAct2d(\n",
              "          960, eps=1e-05, momentum=0.1, affine=True, track_running_stats=True\n",
              "          (drop): Identity()\n",
              "          (act): Hardswish()\n",
              "        )\n",
              "        (drop_path): Identity()\n",
              "      )\n",
              "    )\n",
              "  )\n",
              "  (global_pool): SelectAdaptivePool2d(pool_type=avg, flatten=Identity())\n",
              "  (conv_head): Conv2d(960, 1280, kernel_size=(1, 1), stride=(1, 1))\n",
              "  (act2): Hardswish()\n",
              "  (flatten): Flatten(start_dim=1, end_dim=-1)\n",
              "  (classifier): Linear(in_features=1280, out_features=3, bias=True)\n",
              ")"
            ]
          },
          "metadata": {},
          "execution_count": 281
        }
      ],
      "source": [
        "# Define MobileNetV3 model\n",
        "num_classes = 3\n",
        "model = create_model('mobilenetv3_large_100', pretrained=True, num_classes=num_classes)\n",
        "model.to(device)"
      ]
    },
    {
      "cell_type": "code",
      "execution_count": 282,
      "metadata": {
        "id": "h0l532LREqgm"
      },
      "outputs": [],
      "source": [
        "# Define loss function and optimizer\n",
        "criterion = nn.CrossEntropyLoss().to(device)\n",
        "optimizer = optim.Adam(model.parameters(), lr=learning_rate)"
      ]
    },
    {
      "cell_type": "code",
      "source": [
        "# Define learning rate scheduler\n",
        "scheduler = StepLR(optimizer, step_size=2, gamma=0.5)"
      ],
      "metadata": {
        "id": "EzylGdLUxgFP"
      },
      "execution_count": 283,
      "outputs": []
    },
    {
      "cell_type": "code",
      "execution_count": 284,
      "metadata": {
        "id": "SvlBXdv3EzYe"
      },
      "outputs": [],
      "source": [
        "# Lists to store training statistics\n",
        "train_loss_history = []\n",
        "accuracy_history = []\n",
        "\n",
        "# Lists to store training and validation statistics\n",
        "val_loss_history = []\n",
        "val_accuracy_history = []"
      ]
    },
    {
      "cell_type": "code",
      "execution_count": 285,
      "metadata": {
        "id": "J8B3dF0kH7ls"
      },
      "outputs": [],
      "source": [
        "# Function to register hooks for feature extraction\n",
        "def register_hooks(model):\n",
        "    activations = []\n",
        "\n",
        "    def hook_fn(module, input, output):\n",
        "        activations.append(output)\n",
        "\n",
        "    hooks = []\n",
        "    for layer in model.children():\n",
        "        if isinstance(layer, nn.Conv2d):\n",
        "            hook = layer.register_forward_hook(hook_fn)\n",
        "            hooks.append(hook)\n",
        "\n",
        "    return activations, hooks"
      ]
    },
    {
      "cell_type": "code",
      "execution_count": 286,
      "metadata": {
        "id": "M6om0xv-H9PR"
      },
      "outputs": [],
      "source": [
        "# Extract activations and register hooks\n",
        "activations, hooks = register_hooks(model)\n",
        "scaler = GradScaler()"
      ]
    },
    {
      "cell_type": "code",
      "execution_count": 287,
      "metadata": {
        "colab": {
          "base_uri": "https://localhost:8080/"
        },
        "id": "U7rv4gEYErPx",
        "outputId": "a160a017-b22e-4847-f7f3-bb6fb0e310f2"
      },
      "outputs": [
        {
          "output_type": "stream",
          "name": "stderr",
          "text": [
            "/usr/local/lib/python3.10/dist-packages/torch/optim/lr_scheduler.py:384: UserWarning: To get the last learning rate computed by the scheduler, please use `get_last_lr()`.\n",
            "  warnings.warn(\"To get the last learning rate computed by the scheduler, \"\n"
          ]
        },
        {
          "output_type": "stream",
          "name": "stdout",
          "text": [
            "Epoch 1/10, LR: 0.001, Train Loss: 3.722091691535816, Accuracy: 0.4426769061985738\n",
            "Epoch 1/10, Val Loss: 2.5479326883951825, Val Accuracy: 0.5054945054945055\n",
            "Epoch 2/10, LR: 0.00025, Train Loss: 1.5792463787815028, Accuracy: 0.5660998354360943\n",
            "Epoch 2/10, Val Loss: 1.2247618913650513, Val Accuracy: 0.5340659340659341\n",
            "Epoch 3/10, LR: 0.0005, Train Loss: 1.0653130568956073, Accuracy: 0.5869445968184311\n",
            "Epoch 3/10, Val Loss: 1.0006865561008453, Val Accuracy: 0.5978021978021978\n",
            "Epoch 4/10, LR: 0.000125, Train Loss: 0.9520041994881212, Accuracy: 0.6341195831047723\n",
            "Epoch 4/10, Val Loss: 0.9282081564267476, Val Accuracy: 0.6329670329670329\n",
            "Epoch 5/10, LR: 0.00025, Train Loss: 0.8521301516315394, Accuracy: 0.6566099835436094\n",
            "Epoch 5/10, Val Loss: 0.9480270226796468, Val Accuracy: 0.6373626373626373\n",
            "Epoch 6/10, LR: 6.25e-05, Train Loss: 0.8067095666600946, Accuracy: 0.6593527153044432\n",
            "Epoch 6/10, Val Loss: 0.8922924021879832, Val Accuracy: 0.6571428571428571\n",
            "Epoch 7/10, LR: 0.000125, Train Loss: 0.7334848098587572, Accuracy: 0.689522764673615\n",
            "Epoch 7/10, Val Loss: 0.8390672445297241, Val Accuracy: 0.6307692307692307\n",
            "Epoch 8/10, LR: 3.125e-05, Train Loss: 0.6850816889813072, Accuracy: 0.7092704333516182\n",
            "Epoch 8/10, Val Loss: 0.8203439871470134, Val Accuracy: 0.6659340659340659\n",
            "Epoch 9/10, LR: 6.25e-05, Train Loss: 0.6494107398024777, Accuracy: 0.7262753702687877\n",
            "Epoch 9/10, Val Loss: 0.8079429586728414, Val Accuracy: 0.6615384615384615\n",
            "Epoch 10/10, LR: 1.5625e-05, Train Loss: 0.6781876139473497, Accuracy: 0.7054306088864509\n",
            "Epoch 10/10, Val Loss: 0.7922179013490677, Val Accuracy: 0.6593406593406593\n"
          ]
        }
      ],
      "source": [
        "# Training loop with mixed precision and LR scheduling\n",
        "for epoch in range(epochs):\n",
        "    # Training loop\n",
        "    model.train()\n",
        "    train_loss, correct_predictions, total_samples = 0.0, 0, 0\n",
        "\n",
        "    for inputs, labels in train_loader:\n",
        "        inputs, labels = inputs.to(device), labels.to(device)\n",
        "\n",
        "        with autocast():\n",
        "            optimizer.zero_grad()\n",
        "            outputs = model(inputs)\n",
        "            loss = criterion(outputs, labels)\n",
        "\n",
        "        scaler.scale(loss).backward()\n",
        "        scaler.step(optimizer)\n",
        "        scaler.update()\n",
        "\n",
        "        train_loss += loss.item()\n",
        "        _, preds = torch.max(outputs, 1)\n",
        "        correct_predictions += (preds == labels).sum().item()\n",
        "        total_samples += labels.size(0)\n",
        "\n",
        "    # Validation loop\n",
        "    model.eval()\n",
        "    val_loss, val_correct_predictions, val_total_samples = 0.0, 0, 0\n",
        "\n",
        "    with torch.no_grad():\n",
        "        for inputs, labels in val_loader:\n",
        "            inputs, labels = inputs.to(device), labels.to(device)\n",
        "            outputs = model(inputs)\n",
        "            loss = criterion(outputs, labels)\n",
        "\n",
        "            val_loss += loss.item()\n",
        "            _, preds = torch.max(outputs, 1)\n",
        "            val_correct_predictions += (preds == labels).sum().item()\n",
        "            val_total_samples += labels.size(0)\n",
        "\n",
        "    # Update learning rate\n",
        "    scheduler.step()\n",
        "\n",
        "    # Calculate and print training metrics\n",
        "    accuracy = correct_predictions / total_samples\n",
        "    print(f'Epoch {epoch + 1}/{epochs}, LR: {scheduler.get_lr()[0]}, Train Loss: {train_loss/len(train_loader)}, Accuracy: {accuracy}')\n",
        "\n",
        "    # Calculate and print validation metrics\n",
        "    val_accuracy = val_correct_predictions / val_total_samples\n",
        "    print(f'Epoch {epoch + 1}/{epochs}, Val Loss: {val_loss/len(val_loader)}, Val Accuracy: {val_accuracy}')\n",
        "\n",
        "    # Append metrics to history\n",
        "    train_loss_history.append(train_loss/len(train_loader))\n",
        "    accuracy_history.append(accuracy)\n",
        "    val_accuracy_history.append(val_accuracy)"
      ]
    },
    {
      "cell_type": "code",
      "execution_count": 288,
      "metadata": {
        "id": "jUJqWRJqE-Wc",
        "colab": {
          "base_uri": "https://localhost:8080/",
          "height": 507
        },
        "outputId": "a3432268-c3fc-4ff2-8450-657eaefe7b9e"
      },
      "outputs": [
        {
          "output_type": "display_data",
          "data": {
            "text/plain": [
              "<Figure size 1200x500 with 3 Axes>"
            ],
            "image/png": "[encoded data removed]"
          },
          "metadata": {}
        }
      ],
      "source": [
        "# Plot training loss, accuracy, and validation accuracy\n",
        "plt.figure(figsize=(12, 5))\n",
        "plt.subplot(1, 3, 1)\n",
        "plt.plot(train_loss_history, label='Training Loss')\n",
        "plt.title('Training Loss')\n",
        "plt.xlabel('Epoch')\n",
        "plt.ylabel('Loss')\n",
        "plt.legend()\n",
        "\n",
        "plt.subplot(1, 3, 2)\n",
        "plt.plot(accuracy_history, label='Training Accuracy')\n",
        "plt.title('Training Accuracy')\n",
        "plt.xlabel('Epoch')\n",
        "plt.ylabel('Accuracy')\n",
        "plt.legend()\n",
        "\n",
        "plt.subplot(1, 3, 3)\n",
        "plt.plot(val_accuracy_history, label='Validation Accuracy')\n",
        "plt.title('Validation Accuracy')\n",
        "plt.xlabel('Epoch')\n",
        "plt.ylabel('Accuracy')\n",
        "plt.legend()\n",
        "\n",
        "plt.tight_layout()\n",
        "plt.show()"
      ]
    },
    {
      "cell_type": "code",
      "source": [
        "# Print summary\n",
        "print(\"\\nTraining Summary:\")\n",
        "print(f\"Final Training Loss: {train_loss_history[-1]}\")\n",
        "print(f\"Final Training Accuracy: {accuracy_history[-1]}\")\n",
        "\n",
        "print(\"\\nValidation Summary:\")\n",
        "print(f\"Final Validation Accuracy: {val_accuracy_history[-1]}\")"
      ],
      "metadata": {
        "id": "LATBSvVfWebp",
        "colab": {
          "base_uri": "https://localhost:8080/"
        },
        "outputId": "e572c2d7-a64c-48fc-f89a-9fd5d87f453e"
      },
      "execution_count": 289,
      "outputs": [
        {
          "output_type": "stream",
          "name": "stdout",
          "text": [
            "\n",
            "Training Summary:\n",
            "Final Training Loss: 0.6781876139473497\n",
            "Final Training Accuracy: 0.7054306088864509\n",
            "\n",
            "Validation Summary:\n",
            "Final Validation Accuracy: 0.6593406593406593\n"
          ]
        }
      ]
    },
    {
      "cell_type": "code",
      "execution_count": 290,
      "metadata": {
        "id": "WLCXcneRIMh1"
      },
      "outputs": [],
      "source": [
        "# Remove hooks\n",
        "for hook in hooks:\n",
        "    hook.remove()"
      ]
    },
    {
      "cell_type": "code",
      "source": [
        "# Fine-tuning loop\n",
        "fine_tune_train_loss_history = []\n",
        "fine_tune_accuracy_history = []\n",
        "fine_tune_val_accuracy_history = []"
      ],
      "metadata": {
        "id": "2MFyy1xpwmSx"
      },
      "execution_count": 291,
      "outputs": []
    },
    {
      "cell_type": "code",
      "source": [
        "# Unfreeze certain layers for fine-tuning\n",
        "for param in model.parameters():\n",
        "    param.requires_grad = True"
      ],
      "metadata": {
        "id": "NxCRPWsUyLzW"
      },
      "execution_count": 292,
      "outputs": []
    },
    {
      "cell_type": "code",
      "source": [
        "# Decrease the learning rate for fine-tuning\n",
        "fine_tune_optimizer = optim.Adam(model.parameters(), lr=learning_rate / 10)"
      ],
      "metadata": {
        "id": "1GfAm-rVyNei"
      },
      "execution_count": 293,
      "outputs": []
    },
    {
      "cell_type": "code",
      "execution_count": 294,
      "metadata": {
        "id": "bPMPTl8rJVPb",
        "colab": {
          "base_uri": "https://localhost:8080/"
        },
        "outputId": "0e047a09-6bac-4046-8a54-1ea86d5fd796"
      },
      "outputs": [
        {
          "output_type": "stream",
          "name": "stdout",
          "text": [
            "Fine-tune Epoch 1/5, Train Loss: 0.7180286436750177, Accuracy: 0.6911684037301152\n",
            "Fine-tune Epoch 1/5, Val Loss: 0.781893773873647, Val Accuracy: 0.7032967032967034\n",
            "Fine-tune Epoch 2/5, Train Loss: 0.6633867725991366, Accuracy: 0.7114646187602852\n",
            "Fine-tune Epoch 2/5, Val Loss: 0.8382875561714173, Val Accuracy: 0.6615384615384615\n",
            "Fine-tune Epoch 3/5, Train Loss: 0.6449940199391884, Accuracy: 0.7174986286341196\n",
            "Fine-tune Epoch 3/5, Val Loss: 0.8742165962855021, Val Accuracy: 0.6593406593406593\n",
            "Fine-tune Epoch 4/5, Train Loss: 0.6641211462648291, Accuracy: 0.7224355458036205\n",
            "Fine-tune Epoch 4/5, Val Loss: 0.8827665448188782, Val Accuracy: 0.6131868131868132\n",
            "Fine-tune Epoch 5/5, Train Loss: 0.6121664805370465, Accuracy: 0.7399890290729567\n",
            "Fine-tune Epoch 5/5, Val Loss: 0.8328803658485413, Val Accuracy: 0.6725274725274726\n"
          ]
        }
      ],
      "source": [
        "# Fine-tuning loop with validation\n",
        "for epoch in range(fine_tune_epochs):\n",
        "    # Training loop\n",
        "    model.train()\n",
        "    running_loss = 0.0\n",
        "    correct_predictions = 0\n",
        "    total_samples = 0\n",
        "\n",
        "    for inputs, labels in train_loader:\n",
        "        inputs, labels = inputs.to(device), labels.to(device)\n",
        "\n",
        "        with autocast():\n",
        "            fine_tune_optimizer.zero_grad()\n",
        "            outputs = model(inputs)\n",
        "            loss = criterion(outputs, labels)\n",
        "\n",
        "        scaler.scale(loss).backward()\n",
        "        scaler.step(fine_tune_optimizer)\n",
        "        scaler.update()\n",
        "\n",
        "        running_loss += loss.item()\n",
        "        _, preds = torch.max(outputs, 1)\n",
        "        correct_predictions += (preds == labels).sum().item()\n",
        "        total_samples += labels.size(0)\n",
        "\n",
        "    # Validation loop\n",
        "    model.eval()\n",
        "    val_loss, val_correct_predictions, val_total_samples = 0.0, 0, 0\n",
        "\n",
        "    with torch.no_grad():\n",
        "        for inputs, labels in val_loader:\n",
        "            inputs, labels = inputs.to(device), labels.to(device)\n",
        "            outputs = model(inputs)\n",
        "            loss = criterion(outputs, labels)\n",
        "\n",
        "            val_loss += loss.item()\n",
        "            _, preds = torch.max(outputs, 1)\n",
        "            val_correct_predictions += (preds == labels).sum().item()\n",
        "            val_total_samples += labels.size(0)\n",
        "\n",
        "    # Calculate and print training metrics\n",
        "    accuracy = correct_predictions / total_samples\n",
        "    print(f'Fine-tune Epoch {epoch + 1}/{fine_tune_epochs}, Train Loss: {running_loss/len(train_loader)}, Accuracy: {accuracy}')\n",
        "\n",
        "    # Calculate and print validation metrics\n",
        "    val_accuracy = val_correct_predictions / val_total_samples\n",
        "    print(f'Fine-tune Epoch {epoch + 1}/{fine_tune_epochs}, Val Loss: {val_loss/len(val_loader)}, Val Accuracy: {val_accuracy}')\n",
        "\n",
        "    # Append metrics to history\n",
        "    fine_tune_accuracy_history.append(accuracy)\n",
        "    fine_tune_train_loss_history.append(running_loss/len(train_loader))\n",
        "    fine_tune_val_accuracy_history.append(val_accuracy)\n"
      ]
    },
    {
      "cell_type": "code",
      "execution_count": 295,
      "metadata": {
        "id": "WFriz7Q-JWW0",
        "colab": {
          "base_uri": "https://localhost:8080/",
          "height": 507
        },
        "outputId": "2d2f17b5-f081-42af-b7bb-d1702c6b3cef"
      },
      "outputs": [
        {
          "output_type": "display_data",
          "data": {
            "text/plain": [
              "<Figure size 1200x500 with 3 Axes>"
            ],
            "image/png": "[encoded data removed]"
          },
          "metadata": {}
        }
      ],
      "source": [
        "# Plot training loss, accuracy, and validation accuracy\n",
        "plt.figure(figsize=(12, 5))\n",
        "plt.subplot(1, 3, 1)\n",
        "plt.plot(fine_tune_train_loss_history, label='Training Loss')\n",
        "plt.title('Fine-tuning Loss')\n",
        "plt.xlabel('Epoch')\n",
        "plt.ylabel('Loss')\n",
        "plt.legend()\n",
        "\n",
        "plt.subplot(1, 3, 2)\n",
        "plt.plot(fine_tune_accuracy_history, label='Training Accuracy')\n",
        "plt.title('Fine-tuning Accuracy')\n",
        "plt.xlabel('Epoch')\n",
        "plt.ylabel('Accuracy')\n",
        "plt.legend()\n",
        "\n",
        "plt.subplot(1, 3, 3)\n",
        "plt.plot(fine_tune_val_accuracy_history, label='Validation Accuracy')\n",
        "plt.title('Fine-tuning Validation Accuracy')\n",
        "plt.xlabel('Epoch')\n",
        "plt.ylabel('Accuracy')\n",
        "plt.legend()\n",
        "\n",
        "plt.tight_layout()\n",
        "plt.show()"
      ]
    },
    {
      "cell_type": "code",
      "source": [
        "# Print summary\n",
        "print(\"\\nFine-tuning Summary:\")\n",
        "print(f\"Final Fine-tuning Training Loss: {fine_tune_train_loss_history[-1]}\")\n",
        "print(f\"Final Fine-tuning Training Accuracy: {fine_tune_accuracy_history[-1]}\")\n",
        "\n",
        "print(\"\\nFine-tuning Validation Summary:\")\n",
        "print(f\"Final Fine-tuning Validation Accuracy: {fine_tune_val_accuracy_history[-1]}\")"
      ],
      "metadata": {
        "colab": {
          "base_uri": "https://localhost:8080/"
        },
        "id": "xMKI4o3qXT28",
        "outputId": "069a6513-9ba8-44c1-b3e0-2783041c791d"
      },
      "execution_count": 296,
      "outputs": [
        {
          "output_type": "stream",
          "name": "stdout",
          "text": [
            "\n",
            "Fine-tuning Summary:\n",
            "Final Fine-tuning Training Loss: 0.6121664805370465\n",
            "Final Fine-tuning Training Accuracy: 0.7399890290729567\n",
            "\n",
            "Fine-tuning Validation Summary:\n",
            "Final Fine-tuning Validation Accuracy: 0.6725274725274726\n"
          ]
        }
      ]
    },
    {
      "cell_type": "code",
      "execution_count": 297,
      "metadata": {
        "id": "6RlOSi8PEsHq"
      },
      "outputs": [],
      "source": [
        "# Evaluation\n",
        "model.eval()\n",
        "all_preds = []\n",
        "all_labels = []\n",
        "\n",
        "with torch.no_grad():\n",
        "    for inputs, labels in test_loader:\n",
        "        inputs, labels = inputs.to(device), labels.to(device)\n",
        "        outputs = model(inputs)\n",
        "        _, preds = torch.max(outputs, 1)\n",
        "        all_preds.extend(preds.cpu().numpy())\n",
        "        all_labels.extend(labels.cpu().numpy())"
      ]
    },
    {
      "cell_type": "code",
      "source": [
        "# Convert to NumPy arrays\n",
        "all_preds = np.array(all_preds)\n",
        "all_labels = np.array(all_labels)"
      ],
      "metadata": {
        "id": "hSnBwIC_mR2N"
      },
      "execution_count": 298,
      "outputs": []
    },
    {
      "cell_type": "code",
      "execution_count": 299,
      "metadata": {
        "id": "Eq5J5GrQHoS4"
      },
      "outputs": [],
      "source": [
        "# Calculate metrics\n",
        "accuracy = (all_preds == all_labels).mean()\n",
        "f1 = f1_score(all_labels, all_preds, average='weighted')"
      ]
    },
    {
      "cell_type": "code",
      "execution_count": 300,
      "metadata": {
        "id": "L_fCKEYUEs7c",
        "colab": {
          "base_uri": "https://localhost:8080/"
        },
        "outputId": "04a3fa99-e899-45e6-a63d-c7052f368563"
      },
      "outputs": [
        {
          "output_type": "stream",
          "name": "stdout",
          "text": [
            "Test Accuracy: 0.6766256590509666\n",
            "F1 Score: 0.6787831056664332\n"
          ]
        }
      ],
      "source": [
        "# Print metrics\n",
        "print(f'Test Accuracy: {accuracy}')\n",
        "print(f'F1 Score: {f1}')"
      ]
    },
    {
      "cell_type": "code",
      "source": [
        "# Get the confusion matrix\n",
        "conf_matrix = confusion_matrix(all_labels, all_preds)\n",
        "\n",
        "# Plot the confusion matrix\n",
        "plt.figure(figsize=(8, 6))\n",
        "sns.heatmap(conf_matrix, annot=True, fmt='d', cmap='Blues', cbar=False)\n",
        "plt.title('Confusion Matrix')\n",
        "plt.xlabel('Predicted')\n",
        "plt.ylabel('Actual')\n",
        "plt.show()"
      ],
      "metadata": {
        "id": "lyfIPzyJ7Ese",
        "colab": {
          "base_uri": "https://localhost:8080/",
          "height": 564
        },
        "outputId": "5146e44e-c91d-4961-e076-141677806f36"
      },
      "execution_count": 301,
      "outputs": [
        {
          "output_type": "display_data",
          "data": {
            "text/plain": [
              "<Figure size 800x600 with 1 Axes>"
            ],
            "image/png": "[encoded data removed]"
          },
          "metadata": {}
        }
      ]
    },
    {
      "cell_type": "code",
      "source": [
        "from sklearn.metrics import confusion_matrix, classification_report\n",
        "\n",
        "# Print Classification Report\n",
        "class_names = [str(i) for i in range(num_classes)]  # Replace with your actual class names\n",
        "classification_rep = classification_report(all_labels, all_preds, target_names=class_names)\n",
        "print(\"Classification Report:\\n\", classification_rep)"
      ],
      "metadata": {
        "id": "-vJDzPmQ7PCH",
        "colab": {
          "base_uri": "https://localhost:8080/"
        },
        "outputId": "4c8247f3-ae88-4d93-b0a4-5266d5358256"
      },
      "execution_count": 302,
      "outputs": [
        {
          "output_type": "stream",
          "name": "stdout",
          "text": [
            "Classification Report:\n",
            "               precision    recall  f1-score   support\n",
            "\n",
            "           0       0.71      0.66      0.68       213\n",
            "           1       0.74      0.71      0.73       207\n",
            "           2       0.56      0.65      0.60       149\n",
            "\n",
            "    accuracy                           0.68       569\n",
            "   macro avg       0.67      0.67      0.67       569\n",
            "weighted avg       0.68      0.68      0.68       569\n",
            "\n"
          ]
        }
      ]
    },
    {
      "cell_type": "code",
      "source": [
        "!pip install torchviz"
      ],
      "metadata": {
        "id": "Gssum6csOyt7",
        "colab": {
          "base_uri": "https://localhost:8080/"
        },
        "outputId": "b76d4b6a-2b30-4803-f9a8-3252fd568d20"
      },
      "execution_count": 303,
      "outputs": [
        {
          "output_type": "stream",
          "name": "stdout",
          "text": [
            "Requirement already satisfied: torchviz in /usr/local/lib/python3.10/dist-packages (0.0.2)\n",
            "Requirement already satisfied: torch in /usr/local/lib/python3.10/dist-packages (from torchviz) (2.1.0+cu121)\n",
            "Requirement already satisfied: graphviz in /usr/local/lib/python3.10/dist-packages (from torchviz) (0.20.1)\n",
            "Requirement already satisfied: filelock in /usr/local/lib/python3.10/dist-packages (from torch->torchviz) (3.13.1)\n",
            "Requirement already satisfied: typing-extensions in /usr/local/lib/python3.10/dist-packages (from torch->torchviz) (4.5.0)\n",
            "Requirement already satisfied: sympy in /usr/local/lib/python3.10/dist-packages (from torch->torchviz) (1.12)\n",
            "Requirement already satisfied: networkx in /usr/local/lib/python3.10/dist-packages (from torch->torchviz) (3.2.1)\n",
            "Requirement already satisfied: jinja2 in /usr/local/lib/python3.10/dist-packages (from torch->torchviz) (3.1.2)\n",
            "Requirement already satisfied: fsspec in /usr/local/lib/python3.10/dist-packages (from torch->torchviz) (2023.6.0)\n",
            "Requirement already satisfied: triton==2.1.0 in /usr/local/lib/python3.10/dist-packages (from torch->torchviz) (2.1.0)\n",
            "Requirement already satisfied: MarkupSafe>=2.0 in /usr/local/lib/python3.10/dist-packages (from jinja2->torch->torchviz) (2.1.3)\n",
            "Requirement already satisfied: mpmath>=0.19 in /usr/local/lib/python3.10/dist-packages (from sympy->torch->torchviz) (1.3.0)\n"
          ]
        }
      ]
    },
    {
      "cell_type": "code",
      "source": [
        "# Import library tambahan\n",
        "from torchviz import make_dot\n",
        "\n",
        "# Fungsi untuk menyimpan model summary sebagai gambar\n",
        "def save_model_summary_as_image(model, input_tensor, filename=\"model_summary.png\"):\n",
        "    # Buat graph dari model menggunakan torchviz\n",
        "    graph = make_dot(model(input_tensor), params=dict(model.named_parameters()))\n",
        "\n",
        "    # Simpan grafik sebagai gambar\n",
        "    graph.render(filename, format='png')\n",
        "\n",
        "# Visualisasi arsitektur model dan simpan sebagai gambar\n",
        "input_tensor = torch.randn(1, 3, image_size[0], image_size[1]).to(device)  # Input tensor contoh\n",
        "save_model_summary_as_image(model, input_tensor)"
      ],
      "metadata": {
        "id": "3vGN0msYKbF4"
      },
      "execution_count": 304,
      "outputs": []
    },
    {
      "cell_type": "code",
      "source": [
        "from torchsummary import summary\n",
        "\n",
        "input_size = (3, 112, 112)\n",
        "# Definisikan fungsi untuk mencetak model summary\n",
        "def print_model_summary(model, input_size):\n",
        "    summary(model, input_size=input_size, device='cuda')\n",
        "\n",
        "# Cetak model summary dalam bentuk teks\n",
        "print_model_summary(model, input_size)"
      ],
      "metadata": {
        "colab": {
          "base_uri": "https://localhost:8080/"
        },
        "id": "r712oh1gdClv",
        "outputId": "226a3db1-d08f-4a1e-a621-d65c10266445"
      },
      "execution_count": 305,
      "outputs": [
        {
          "output_type": "stream",
          "name": "stdout",
          "text": [
            "----------------------------------------------------------------\n",
            "        Layer (type)               Output Shape         Param #\n",
            "================================================================\n",
            "            Conv2d-1           [-1, 16, 56, 56]             432\n",
            "          Identity-2           [-1, 16, 56, 56]               0\n",
            "         Hardswish-3           [-1, 16, 56, 56]               0\n",
            "    BatchNormAct2d-4           [-1, 16, 56, 56]              32\n",
            "            Conv2d-5           [-1, 16, 56, 56]             144\n",
            "          Identity-6           [-1, 16, 56, 56]               0\n",
            "              ReLU-7           [-1, 16, 56, 56]               0\n",
            "    BatchNormAct2d-8           [-1, 16, 56, 56]              32\n",
            "          Identity-9           [-1, 16, 56, 56]               0\n",
            "           Conv2d-10           [-1, 16, 56, 56]             256\n",
            "         Identity-11           [-1, 16, 56, 56]               0\n",
            "         Identity-12           [-1, 16, 56, 56]               0\n",
            "   BatchNormAct2d-13           [-1, 16, 56, 56]              32\n",
            "         Identity-14           [-1, 16, 56, 56]               0\n",
            "DepthwiseSeparableConv-15           [-1, 16, 56, 56]               0\n",
            "           Conv2d-16           [-1, 64, 56, 56]           1,024\n",
            "         Identity-17           [-1, 64, 56, 56]               0\n",
            "             ReLU-18           [-1, 64, 56, 56]               0\n",
            "   BatchNormAct2d-19           [-1, 64, 56, 56]             128\n",
            "           Conv2d-20           [-1, 64, 28, 28]             576\n",
            "         Identity-21           [-1, 64, 28, 28]               0\n",
            "             ReLU-22           [-1, 64, 28, 28]               0\n",
            "   BatchNormAct2d-23           [-1, 64, 28, 28]             128\n",
            "         Identity-24           [-1, 64, 28, 28]               0\n",
            "           Conv2d-25           [-1, 24, 28, 28]           1,536\n",
            "         Identity-26           [-1, 24, 28, 28]               0\n",
            "         Identity-27           [-1, 24, 28, 28]               0\n",
            "   BatchNormAct2d-28           [-1, 24, 28, 28]              48\n",
            " InvertedResidual-29           [-1, 24, 28, 28]               0\n",
            "           Conv2d-30           [-1, 72, 28, 28]           1,728\n",
            "         Identity-31           [-1, 72, 28, 28]               0\n",
            "             ReLU-32           [-1, 72, 28, 28]               0\n",
            "   BatchNormAct2d-33           [-1, 72, 28, 28]             144\n",
            "           Conv2d-34           [-1, 72, 28, 28]             648\n",
            "         Identity-35           [-1, 72, 28, 28]               0\n",
            "             ReLU-36           [-1, 72, 28, 28]               0\n",
            "   BatchNormAct2d-37           [-1, 72, 28, 28]             144\n",
            "         Identity-38           [-1, 72, 28, 28]               0\n",
            "           Conv2d-39           [-1, 24, 28, 28]           1,728\n",
            "         Identity-40           [-1, 24, 28, 28]               0\n",
            "         Identity-41           [-1, 24, 28, 28]               0\n",
            "   BatchNormAct2d-42           [-1, 24, 28, 28]              48\n",
            "         Identity-43           [-1, 24, 28, 28]               0\n",
            " InvertedResidual-44           [-1, 24, 28, 28]               0\n",
            "           Conv2d-45           [-1, 72, 28, 28]           1,728\n",
            "         Identity-46           [-1, 72, 28, 28]               0\n",
            "             ReLU-47           [-1, 72, 28, 28]               0\n",
            "   BatchNormAct2d-48           [-1, 72, 28, 28]             144\n",
            "           Conv2d-49           [-1, 72, 14, 14]           1,800\n",
            "         Identity-50           [-1, 72, 14, 14]               0\n",
            "             ReLU-51           [-1, 72, 14, 14]               0\n",
            "   BatchNormAct2d-52           [-1, 72, 14, 14]             144\n",
            "           Conv2d-53             [-1, 24, 1, 1]           1,752\n",
            "             ReLU-54             [-1, 24, 1, 1]               0\n",
            "           Conv2d-55             [-1, 72, 1, 1]           1,800\n",
            "      Hardsigmoid-56             [-1, 72, 1, 1]               0\n",
            "    SqueezeExcite-57           [-1, 72, 14, 14]               0\n",
            "           Conv2d-58           [-1, 40, 14, 14]           2,880\n",
            "         Identity-59           [-1, 40, 14, 14]               0\n",
            "         Identity-60           [-1, 40, 14, 14]               0\n",
            "   BatchNormAct2d-61           [-1, 40, 14, 14]              80\n",
            " InvertedResidual-62           [-1, 40, 14, 14]               0\n",
            "           Conv2d-63          [-1, 120, 14, 14]           4,800\n",
            "         Identity-64          [-1, 120, 14, 14]               0\n",
            "             ReLU-65          [-1, 120, 14, 14]               0\n",
            "   BatchNormAct2d-66          [-1, 120, 14, 14]             240\n",
            "           Conv2d-67          [-1, 120, 14, 14]           3,000\n",
            "         Identity-68          [-1, 120, 14, 14]               0\n",
            "             ReLU-69          [-1, 120, 14, 14]               0\n",
            "   BatchNormAct2d-70          [-1, 120, 14, 14]             240\n",
            "           Conv2d-71             [-1, 32, 1, 1]           3,872\n",
            "             ReLU-72             [-1, 32, 1, 1]               0\n",
            "           Conv2d-73            [-1, 120, 1, 1]           3,960\n",
            "      Hardsigmoid-74            [-1, 120, 1, 1]               0\n",
            "    SqueezeExcite-75          [-1, 120, 14, 14]               0\n",
            "           Conv2d-76           [-1, 40, 14, 14]           4,800\n",
            "         Identity-77           [-1, 40, 14, 14]               0\n",
            "         Identity-78           [-1, 40, 14, 14]               0\n",
            "   BatchNormAct2d-79           [-1, 40, 14, 14]              80\n",
            "         Identity-80           [-1, 40, 14, 14]               0\n",
            " InvertedResidual-81           [-1, 40, 14, 14]               0\n",
            "           Conv2d-82          [-1, 120, 14, 14]           4,800\n",
            "         Identity-83          [-1, 120, 14, 14]               0\n",
            "             ReLU-84          [-1, 120, 14, 14]               0\n",
            "   BatchNormAct2d-85          [-1, 120, 14, 14]             240\n",
            "           Conv2d-86          [-1, 120, 14, 14]           3,000\n",
            "         Identity-87          [-1, 120, 14, 14]               0\n",
            "             ReLU-88          [-1, 120, 14, 14]               0\n",
            "   BatchNormAct2d-89          [-1, 120, 14, 14]             240\n",
            "           Conv2d-90             [-1, 32, 1, 1]           3,872\n",
            "             ReLU-91             [-1, 32, 1, 1]               0\n",
            "           Conv2d-92            [-1, 120, 1, 1]           3,960\n",
            "      Hardsigmoid-93            [-1, 120, 1, 1]               0\n",
            "    SqueezeExcite-94          [-1, 120, 14, 14]               0\n",
            "           Conv2d-95           [-1, 40, 14, 14]           4,800\n",
            "         Identity-96           [-1, 40, 14, 14]               0\n",
            "         Identity-97           [-1, 40, 14, 14]               0\n",
            "   BatchNormAct2d-98           [-1, 40, 14, 14]              80\n",
            "         Identity-99           [-1, 40, 14, 14]               0\n",
            "InvertedResidual-100           [-1, 40, 14, 14]               0\n",
            "          Conv2d-101          [-1, 240, 14, 14]           9,600\n",
            "        Identity-102          [-1, 240, 14, 14]               0\n",
            "       Hardswish-103          [-1, 240, 14, 14]               0\n",
            "  BatchNormAct2d-104          [-1, 240, 14, 14]             480\n",
            "          Conv2d-105            [-1, 240, 7, 7]           2,160\n",
            "        Identity-106            [-1, 240, 7, 7]               0\n",
            "       Hardswish-107            [-1, 240, 7, 7]               0\n",
            "  BatchNormAct2d-108            [-1, 240, 7, 7]             480\n",
            "        Identity-109            [-1, 240, 7, 7]               0\n",
            "          Conv2d-110             [-1, 80, 7, 7]          19,200\n",
            "        Identity-111             [-1, 80, 7, 7]               0\n",
            "        Identity-112             [-1, 80, 7, 7]               0\n",
            "  BatchNormAct2d-113             [-1, 80, 7, 7]             160\n",
            "InvertedResidual-114             [-1, 80, 7, 7]               0\n",
            "          Conv2d-115            [-1, 200, 7, 7]          16,000\n",
            "        Identity-116            [-1, 200, 7, 7]               0\n",
            "       Hardswish-117            [-1, 200, 7, 7]               0\n",
            "  BatchNormAct2d-118            [-1, 200, 7, 7]             400\n",
            "          Conv2d-119            [-1, 200, 7, 7]           1,800\n",
            "        Identity-120            [-1, 200, 7, 7]               0\n",
            "       Hardswish-121            [-1, 200, 7, 7]               0\n",
            "  BatchNormAct2d-122            [-1, 200, 7, 7]             400\n",
            "        Identity-123            [-1, 200, 7, 7]               0\n",
            "          Conv2d-124             [-1, 80, 7, 7]          16,000\n",
            "        Identity-125             [-1, 80, 7, 7]               0\n",
            "        Identity-126             [-1, 80, 7, 7]               0\n",
            "  BatchNormAct2d-127             [-1, 80, 7, 7]             160\n",
            "        Identity-128             [-1, 80, 7, 7]               0\n",
            "InvertedResidual-129             [-1, 80, 7, 7]               0\n",
            "          Conv2d-130            [-1, 184, 7, 7]          14,720\n",
            "        Identity-131            [-1, 184, 7, 7]               0\n",
            "       Hardswish-132            [-1, 184, 7, 7]               0\n",
            "  BatchNormAct2d-133            [-1, 184, 7, 7]             368\n",
            "          Conv2d-134            [-1, 184, 7, 7]           1,656\n",
            "        Identity-135            [-1, 184, 7, 7]               0\n",
            "       Hardswish-136            [-1, 184, 7, 7]               0\n",
            "  BatchNormAct2d-137            [-1, 184, 7, 7]             368\n",
            "        Identity-138            [-1, 184, 7, 7]               0\n",
            "          Conv2d-139             [-1, 80, 7, 7]          14,720\n",
            "        Identity-140             [-1, 80, 7, 7]               0\n",
            "        Identity-141             [-1, 80, 7, 7]               0\n",
            "  BatchNormAct2d-142             [-1, 80, 7, 7]             160\n",
            "        Identity-143             [-1, 80, 7, 7]               0\n",
            "InvertedResidual-144             [-1, 80, 7, 7]               0\n",
            "          Conv2d-145            [-1, 184, 7, 7]          14,720\n",
            "        Identity-146            [-1, 184, 7, 7]               0\n",
            "       Hardswish-147            [-1, 184, 7, 7]               0\n",
            "  BatchNormAct2d-148            [-1, 184, 7, 7]             368\n",
            "          Conv2d-149            [-1, 184, 7, 7]           1,656\n",
            "        Identity-150            [-1, 184, 7, 7]               0\n",
            "       Hardswish-151            [-1, 184, 7, 7]               0\n",
            "  BatchNormAct2d-152            [-1, 184, 7, 7]             368\n",
            "        Identity-153            [-1, 184, 7, 7]               0\n",
            "          Conv2d-154             [-1, 80, 7, 7]          14,720\n",
            "        Identity-155             [-1, 80, 7, 7]               0\n",
            "        Identity-156             [-1, 80, 7, 7]               0\n",
            "  BatchNormAct2d-157             [-1, 80, 7, 7]             160\n",
            "        Identity-158             [-1, 80, 7, 7]               0\n",
            "InvertedResidual-159             [-1, 80, 7, 7]               0\n",
            "          Conv2d-160            [-1, 480, 7, 7]          38,400\n",
            "        Identity-161            [-1, 480, 7, 7]               0\n",
            "       Hardswish-162            [-1, 480, 7, 7]               0\n",
            "  BatchNormAct2d-163            [-1, 480, 7, 7]             960\n",
            "          Conv2d-164            [-1, 480, 7, 7]           4,320\n",
            "        Identity-165            [-1, 480, 7, 7]               0\n",
            "       Hardswish-166            [-1, 480, 7, 7]               0\n",
            "  BatchNormAct2d-167            [-1, 480, 7, 7]             960\n",
            "          Conv2d-168            [-1, 120, 1, 1]          57,720\n",
            "            ReLU-169            [-1, 120, 1, 1]               0\n",
            "          Conv2d-170            [-1, 480, 1, 1]          58,080\n",
            "     Hardsigmoid-171            [-1, 480, 1, 1]               0\n",
            "   SqueezeExcite-172            [-1, 480, 7, 7]               0\n",
            "          Conv2d-173            [-1, 112, 7, 7]          53,760\n",
            "        Identity-174            [-1, 112, 7, 7]               0\n",
            "        Identity-175            [-1, 112, 7, 7]               0\n",
            "  BatchNormAct2d-176            [-1, 112, 7, 7]             224\n",
            "InvertedResidual-177            [-1, 112, 7, 7]               0\n",
            "          Conv2d-178            [-1, 672, 7, 7]          75,264\n",
            "        Identity-179            [-1, 672, 7, 7]               0\n",
            "       Hardswish-180            [-1, 672, 7, 7]               0\n",
            "  BatchNormAct2d-181            [-1, 672, 7, 7]           1,344\n",
            "          Conv2d-182            [-1, 672, 7, 7]           6,048\n",
            "        Identity-183            [-1, 672, 7, 7]               0\n",
            "       Hardswish-184            [-1, 672, 7, 7]               0\n",
            "  BatchNormAct2d-185            [-1, 672, 7, 7]           1,344\n",
            "          Conv2d-186            [-1, 168, 1, 1]         113,064\n",
            "            ReLU-187            [-1, 168, 1, 1]               0\n",
            "          Conv2d-188            [-1, 672, 1, 1]         113,568\n",
            "     Hardsigmoid-189            [-1, 672, 1, 1]               0\n",
            "   SqueezeExcite-190            [-1, 672, 7, 7]               0\n",
            "          Conv2d-191            [-1, 112, 7, 7]          75,264\n",
            "        Identity-192            [-1, 112, 7, 7]               0\n",
            "        Identity-193            [-1, 112, 7, 7]               0\n",
            "  BatchNormAct2d-194            [-1, 112, 7, 7]             224\n",
            "        Identity-195            [-1, 112, 7, 7]               0\n",
            "InvertedResidual-196            [-1, 112, 7, 7]               0\n",
            "          Conv2d-197            [-1, 672, 7, 7]          75,264\n",
            "        Identity-198            [-1, 672, 7, 7]               0\n",
            "       Hardswish-199            [-1, 672, 7, 7]               0\n",
            "  BatchNormAct2d-200            [-1, 672, 7, 7]           1,344\n",
            "          Conv2d-201            [-1, 672, 4, 4]          16,800\n",
            "        Identity-202            [-1, 672, 4, 4]               0\n",
            "       Hardswish-203            [-1, 672, 4, 4]               0\n",
            "  BatchNormAct2d-204            [-1, 672, 4, 4]           1,344\n",
            "          Conv2d-205            [-1, 168, 1, 1]         113,064\n",
            "            ReLU-206            [-1, 168, 1, 1]               0\n",
            "          Conv2d-207            [-1, 672, 1, 1]         113,568\n",
            "     Hardsigmoid-208            [-1, 672, 1, 1]               0\n",
            "   SqueezeExcite-209            [-1, 672, 4, 4]               0\n",
            "          Conv2d-210            [-1, 160, 4, 4]         107,520\n",
            "        Identity-211            [-1, 160, 4, 4]               0\n",
            "        Identity-212            [-1, 160, 4, 4]               0\n",
            "  BatchNormAct2d-213            [-1, 160, 4, 4]             320\n",
            "InvertedResidual-214            [-1, 160, 4, 4]               0\n",
            "          Conv2d-215            [-1, 960, 4, 4]         153,600\n",
            "        Identity-216            [-1, 960, 4, 4]               0\n",
            "       Hardswish-217            [-1, 960, 4, 4]               0\n",
            "  BatchNormAct2d-218            [-1, 960, 4, 4]           1,920\n",
            "          Conv2d-219            [-1, 960, 4, 4]          24,000\n",
            "        Identity-220            [-1, 960, 4, 4]               0\n",
            "       Hardswish-221            [-1, 960, 4, 4]               0\n",
            "  BatchNormAct2d-222            [-1, 960, 4, 4]           1,920\n",
            "          Conv2d-223            [-1, 240, 1, 1]         230,640\n",
            "            ReLU-224            [-1, 240, 1, 1]               0\n",
            "          Conv2d-225            [-1, 960, 1, 1]         231,360\n",
            "     Hardsigmoid-226            [-1, 960, 1, 1]               0\n",
            "   SqueezeExcite-227            [-1, 960, 4, 4]               0\n",
            "          Conv2d-228            [-1, 160, 4, 4]         153,600\n",
            "        Identity-229            [-1, 160, 4, 4]               0\n",
            "        Identity-230            [-1, 160, 4, 4]               0\n",
            "  BatchNormAct2d-231            [-1, 160, 4, 4]             320\n",
            "        Identity-232            [-1, 160, 4, 4]               0\n",
            "InvertedResidual-233            [-1, 160, 4, 4]               0\n",
            "          Conv2d-234            [-1, 960, 4, 4]         153,600\n",
            "        Identity-235            [-1, 960, 4, 4]               0\n",
            "       Hardswish-236            [-1, 960, 4, 4]               0\n",
            "  BatchNormAct2d-237            [-1, 960, 4, 4]           1,920\n",
            "          Conv2d-238            [-1, 960, 4, 4]          24,000\n",
            "        Identity-239            [-1, 960, 4, 4]               0\n",
            "       Hardswish-240            [-1, 960, 4, 4]               0\n",
            "  BatchNormAct2d-241            [-1, 960, 4, 4]           1,920\n",
            "          Conv2d-242            [-1, 240, 1, 1]         230,640\n",
            "            ReLU-243            [-1, 240, 1, 1]               0\n",
            "          Conv2d-244            [-1, 960, 1, 1]         231,360\n",
            "     Hardsigmoid-245            [-1, 960, 1, 1]               0\n",
            "   SqueezeExcite-246            [-1, 960, 4, 4]               0\n",
            "          Conv2d-247            [-1, 160, 4, 4]         153,600\n",
            "        Identity-248            [-1, 160, 4, 4]               0\n",
            "        Identity-249            [-1, 160, 4, 4]               0\n",
            "  BatchNormAct2d-250            [-1, 160, 4, 4]             320\n",
            "        Identity-251            [-1, 160, 4, 4]               0\n",
            "InvertedResidual-252            [-1, 160, 4, 4]               0\n",
            "          Conv2d-253            [-1, 960, 4, 4]         153,600\n",
            "        Identity-254            [-1, 960, 4, 4]               0\n",
            "       Hardswish-255            [-1, 960, 4, 4]               0\n",
            "  BatchNormAct2d-256            [-1, 960, 4, 4]           1,920\n",
            "       ConvBnAct-257            [-1, 960, 4, 4]               0\n",
            "AdaptiveAvgPool2d-258            [-1, 960, 1, 1]               0\n",
            "        Identity-259            [-1, 960, 1, 1]               0\n",
            "SelectAdaptivePool2d-260            [-1, 960, 1, 1]               0\n",
            "          Conv2d-261           [-1, 1280, 1, 1]       1,230,080\n",
            "       Hardswish-262           [-1, 1280, 1, 1]               0\n",
            "         Flatten-263                 [-1, 1280]               0\n",
            "          Linear-264                    [-1, 3]           3,843\n",
            "================================================================\n",
            "Total params: 4,205,875\n",
            "Trainable params: 4,205,875\n",
            "Non-trainable params: 0\n",
            "----------------------------------------------------------------\n",
            "Input size (MB): 0.14\n",
            "Forward/backward pass size (MB): 39.13\n",
            "Params size (MB): 16.04\n",
            "Estimated Total Size (MB): 55.32\n",
            "----------------------------------------------------------------\n"
          ]
        }
      ]
    }
  ],
  "metadata": {
    "accelerator": "GPU",
    "colab": {
      "provenance": [],
      "gpuType": "T4"
    },
    "kernelspec": {
      "display_name": "Python 3",
      "name": "python3"
    },
    "language_info": {
      "name": "python"
    }
  },
  "nbformat": 4,
  "nbformat_minor": 0
}