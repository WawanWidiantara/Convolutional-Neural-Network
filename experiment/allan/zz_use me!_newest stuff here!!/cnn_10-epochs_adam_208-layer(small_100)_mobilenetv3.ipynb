{
  "cells": [
    {
      "cell_type": "code",
      "execution_count": 1,
      "metadata": {
        "colab": {
          "base_uri": "https://localhost:8080/"
        },
        "id": "AdEy2qbCEbHP",
        "outputId": "28c7e318-1a10-4cbc-f1b0-9bed466ee20f"
      },
      "outputs": [
        {
          "output_type": "stream",
          "name": "stdout",
          "text": [
            "Mounted at /content/drive\n"
          ]
        }
      ],
      "source": [
        "from google.colab import drive\n",
        "drive.mount('/content/drive')"
      ]
    },
    {
      "cell_type": "code",
      "execution_count": 2,
      "metadata": {
        "colab": {
          "base_uri": "https://localhost:8080/"
        },
        "id": "hAsYeEZgEgJs",
        "outputId": "8ae2aa21-1cd4-4b58-b041-5af64aa27610"
      },
      "outputs": [
        {
          "output_type": "stream",
          "name": "stdout",
          "text": [
            "Requirement already satisfied: torch in /usr/local/lib/python3.10/dist-packages (2.1.0+cu121)\n",
            "Requirement already satisfied: torchvision in /usr/local/lib/python3.10/dist-packages (0.16.0+cu121)\n",
            "Collecting timm\n",
            "  Downloading timm-0.9.12-py3-none-any.whl (2.2 MB)\n",
            "\u001b[2K     \u001b[90m━━━━━━━━━━━━━━━━━━━━━━━━━━━━━━━━━━━━━━━━\u001b[0m \u001b[32m2.2/2.2 MB\u001b[0m \u001b[31m9.0 MB/s\u001b[0m eta \u001b[36m0:00:00\u001b[0m\n",
            "\u001b[?25hRequirement already satisfied: filelock in /usr/local/lib/python3.10/dist-packages (from torch) (3.13.1)\n",
            "Requirement already satisfied: typing-extensions in /usr/local/lib/python3.10/dist-packages (from torch) (4.5.0)\n",
            "Requirement already satisfied: sympy in /usr/local/lib/python3.10/dist-packages (from torch) (1.12)\n",
            "Requirement already satisfied: networkx in /usr/local/lib/python3.10/dist-packages (from torch) (3.2.1)\n",
            "Requirement already satisfied: jinja2 in /usr/local/lib/python3.10/dist-packages (from torch) (3.1.2)\n",
            "Requirement already satisfied: fsspec in /usr/local/lib/python3.10/dist-packages (from torch) (2023.6.0)\n",
            "Requirement already satisfied: triton==2.1.0 in /usr/local/lib/python3.10/dist-packages (from torch) (2.1.0)\n",
            "Requirement already satisfied: numpy in /usr/local/lib/python3.10/dist-packages (from torchvision) (1.23.5)\n",
            "Requirement already satisfied: requests in /usr/local/lib/python3.10/dist-packages (from torchvision) (2.31.0)\n",
            "Requirement already satisfied: pillow!=8.3.*,>=5.3.0 in /usr/local/lib/python3.10/dist-packages (from torchvision) (9.4.0)\n",
            "Requirement already satisfied: pyyaml in /usr/local/lib/python3.10/dist-packages (from timm) (6.0.1)\n",
            "Requirement already satisfied: huggingface-hub in /usr/local/lib/python3.10/dist-packages (from timm) (0.20.1)\n",
            "Requirement already satisfied: safetensors in /usr/local/lib/python3.10/dist-packages (from timm) (0.4.1)\n",
            "Requirement already satisfied: tqdm>=4.42.1 in /usr/local/lib/python3.10/dist-packages (from huggingface-hub->timm) (4.66.1)\n",
            "Requirement already satisfied: packaging>=20.9 in /usr/local/lib/python3.10/dist-packages (from huggingface-hub->timm) (23.2)\n",
            "Requirement already satisfied: MarkupSafe>=2.0 in /usr/local/lib/python3.10/dist-packages (from jinja2->torch) (2.1.3)\n",
            "Requirement already satisfied: charset-normalizer<4,>=2 in /usr/local/lib/python3.10/dist-packages (from requests->torchvision) (3.3.2)\n",
            "Requirement already satisfied: idna<4,>=2.5 in /usr/local/lib/python3.10/dist-packages (from requests->torchvision) (3.6)\n",
            "Requirement already satisfied: urllib3<3,>=1.21.1 in /usr/local/lib/python3.10/dist-packages (from requests->torchvision) (2.0.7)\n",
            "Requirement already satisfied: certifi>=2017.4.17 in /usr/local/lib/python3.10/dist-packages (from requests->torchvision) (2023.11.17)\n",
            "Requirement already satisfied: mpmath>=0.19 in /usr/local/lib/python3.10/dist-packages (from sympy->torch) (1.3.0)\n",
            "Installing collected packages: timm\n",
            "Successfully installed timm-0.9.12\n"
          ]
        }
      ],
      "source": [
        "# Install necessary libraries\n",
        "!pip install torch torchvision timm"
      ]
    },
    {
      "cell_type": "code",
      "execution_count": 3,
      "metadata": {
        "id": "SEukYZJEEhw3"
      },
      "outputs": [],
      "source": [
        "# Import libraries\n",
        "import torch\n",
        "import torch.nn as nn\n",
        "import torch.optim as optim\n",
        "import matplotlib.pyplot as plt\n",
        "import numpy as np\n",
        "from torchsummary import summary\n",
        "from torch.utils.data import DataLoader\n",
        "from torchvision import transforms, datasets\n",
        "from sklearn.metrics import f1_score\n",
        "from timm import create_model\n",
        "from torch.cuda.amp import autocast, GradScaler\n",
        "from torch.optim.lr_scheduler import StepLR\n",
        "\n",
        "# Confusion Matrix\n",
        "from sklearn.metrics import confusion_matrix\n",
        "import seaborn as sns\n",
        "import matplotlib.pyplot as plt"
      ]
    },
    {
      "cell_type": "code",
      "execution_count": 4,
      "metadata": {
        "id": "ig3DugK4Eiuo"
      },
      "outputs": [],
      "source": [
        "# Define constants\n",
        "data_dir = '/content/drive/MyDrive'  # Replace with the actual path\n",
        "batch_size = 32\n",
        "learning_rate = 0.001\n",
        "epochs = 10\n",
        "fine_tune_epochs = 5\n",
        "image_size = (112, 112)  # Change this to the desired size"
      ]
    },
    {
      "cell_type": "code",
      "execution_count": 5,
      "metadata": {
        "id": "U_49fLfTEjfW"
      },
      "outputs": [],
      "source": [
        "# Define data transformations with increased augmentation\n",
        "transform = transforms.Compose([\n",
        "    transforms.RandomResizedCrop(image_size, scale=(0.8, 1.0)),\n",
        "    transforms.RandomHorizontalFlip(),\n",
        "    transforms.RandomVerticalFlip(),\n",
        "    transforms.RandomRotation(30),\n",
        "    transforms.ColorJitter(brightness=0.2, contrast=0.2, saturation=0.2, hue=0.2),\n",
        "    transforms.ToTensor(),\n",
        "])"
      ]
    },
    {
      "cell_type": "code",
      "execution_count": 6,
      "metadata": {
        "id": "GuGRhlrZEmB6"
      },
      "outputs": [],
      "source": [
        "# Load dataset\n",
        "train_dataset = datasets.ImageFolder(root=data_dir + '/train', transform=transform)\n",
        "test_dataset = datasets.ImageFolder(root=data_dir + '/test', transform=transform)"
      ]
    },
    {
      "cell_type": "code",
      "source": [
        "# Split the dataset into training and validation sets\n",
        "validation_split = 0.2\n",
        "dataset_size = len(train_dataset)\n",
        "split = int(np.floor(validation_split * dataset_size))\n",
        "indices = list(range(dataset_size))\n",
        "np.random.shuffle(indices)\n",
        "train_indices, val_indices = indices[split:], indices[:split]\n",
        "\n",
        "# Create data loaders for training and validation sets\n",
        "train_sampler = torch.utils.data.sampler.SubsetRandomSampler(train_indices)\n",
        "val_sampler = torch.utils.data.sampler.SubsetRandomSampler(val_indices)\n",
        "\n",
        "train_loader = DataLoader(train_dataset, batch_size=batch_size, sampler=train_sampler)\n",
        "val_loader = DataLoader(train_dataset, batch_size=batch_size, sampler=val_sampler)"
      ],
      "metadata": {
        "id": "xhuums6HLfLg"
      },
      "execution_count": 7,
      "outputs": []
    },
    {
      "cell_type": "code",
      "execution_count": 8,
      "metadata": {
        "id": "XfBxbR9WEnk0"
      },
      "outputs": [],
      "source": [
        "# Create data loaders\n",
        "test_loader = DataLoader(test_dataset, batch_size=batch_size, shuffle=False)"
      ]
    },
    {
      "cell_type": "code",
      "execution_count": 9,
      "metadata": {
        "id": "x7zuEfR6Eoq-"
      },
      "outputs": [],
      "source": [
        "# Check if GPU is available\n",
        "device = torch.device('cuda' if torch.cuda.is_available() else 'cpu')"
      ]
    },
    {
      "cell_type": "code",
      "execution_count": 10,
      "metadata": {
        "colab": {
          "base_uri": "https://localhost:8080/",
          "height": 1000,
          "referenced_widgets": [
            "3db2ae7fd43540d0bb4b86ce65638701",
            "d5919c844983459b8a7e2da1c4fecb18",
            "69a062d57e304c9ab1d5666fb4e7f83f",
            "edaf375dbce74dfca30b4b92120a34a7",
            "838a5030f91e493aaba46eac0ae71506",
            "93749f4365a148bbb6d4db4ccaed32d2",
            "4d2c0a1ab6af44b6abdfab8aa397e571",
            "f797002fb280421588819e41a663d772",
            "c56df88c3c9b4301b96a5f2ee6bdb110",
            "123367330e824fa1ab87e9887b719914",
            "5103497e68394c76bf66944c751f4817"
          ]
        },
        "id": "WW0fJfzLEpxa",
        "outputId": "c37f8477-af30-4cd1-bb62-4a585bbe096b"
      },
      "outputs": [
        {
          "output_type": "stream",
          "name": "stderr",
          "text": [
            "/usr/local/lib/python3.10/dist-packages/huggingface_hub/utils/_token.py:72: UserWarning: \n",
            "The secret `HF_TOKEN` does not exist in your Colab secrets.\n",
            "To authenticate with the Hugging Face Hub, create a token in your settings tab (https://huggingface.co/settings/tokens), set it as secret in your Google Colab and restart your session.\n",
            "You will be able to reuse this secret in all of your notebooks.\n",
            "Please note that authentication is recommended but still optional to access public models or datasets.\n",
            "  warnings.warn(\n"
          ]
        },
        {
          "output_type": "display_data",
          "data": {
            "text/plain": [
              "model.safetensors:   0%|          | 0.00/10.2M [00:00<?, ?B/s]"
            ],
            "application/vnd.jupyter.widget-view+json": {
              "version_major": 2,
              "version_minor": 0,
              "model_id": "3db2ae7fd43540d0bb4b86ce65638701"
            }
          },
          "metadata": {}
        },
        {
          "output_type": "execute_result",
          "data": {
            "text/plain": [
              "MobileNetV3(\n",
              "  (conv_stem): Conv2d(3, 16, kernel_size=(3, 3), stride=(2, 2), padding=(1, 1), bias=False)\n",
              "  (bn1): BatchNormAct2d(\n",
              "    16, eps=1e-05, momentum=0.1, affine=True, track_running_stats=True\n",
              "    (drop): Identity()\n",
              "    (act): Hardswish()\n",
              "  )\n",
              "  (blocks): Sequential(\n",
              "    (0): Sequential(\n",
              "      (0): DepthwiseSeparableConv(\n",
              "        (conv_dw): Conv2d(16, 16, kernel_size=(3, 3), stride=(2, 2), padding=(1, 1), groups=16, bias=False)\n",
              "        (bn1): BatchNormAct2d(\n",
              "          16, eps=1e-05, momentum=0.1, affine=True, track_running_stats=True\n",
              "          (drop): Identity()\n",
              "          (act): ReLU(inplace=True)\n",
              "        )\n",
              "        (se): SqueezeExcite(\n",
              "          (conv_reduce): Conv2d(16, 8, kernel_size=(1, 1), stride=(1, 1))\n",
              "          (act1): ReLU(inplace=True)\n",
              "          (conv_expand): Conv2d(8, 16, kernel_size=(1, 1), stride=(1, 1))\n",
              "          (gate): Hardsigmoid()\n",
              "        )\n",
              "        (conv_pw): Conv2d(16, 16, kernel_size=(1, 1), stride=(1, 1), bias=False)\n",
              "        (bn2): BatchNormAct2d(\n",
              "          16, eps=1e-05, momentum=0.1, affine=True, track_running_stats=True\n",
              "          (drop): Identity()\n",
              "          (act): Identity()\n",
              "        )\n",
              "        (drop_path): Identity()\n",
              "      )\n",
              "    )\n",
              "    (1): Sequential(\n",
              "      (0): InvertedResidual(\n",
              "        (conv_pw): Conv2d(16, 72, kernel_size=(1, 1), stride=(1, 1), bias=False)\n",
              "        (bn1): BatchNormAct2d(\n",
              "          72, eps=1e-05, momentum=0.1, affine=True, track_running_stats=True\n",
              "          (drop): Identity()\n",
              "          (act): ReLU(inplace=True)\n",
              "        )\n",
              "        (conv_dw): Conv2d(72, 72, kernel_size=(3, 3), stride=(2, 2), padding=(1, 1), groups=72, bias=False)\n",
              "        (bn2): BatchNormAct2d(\n",
              "          72, eps=1e-05, momentum=0.1, affine=True, track_running_stats=True\n",
              "          (drop): Identity()\n",
              "          (act): ReLU(inplace=True)\n",
              "        )\n",
              "        (se): Identity()\n",
              "        (conv_pwl): Conv2d(72, 24, kernel_size=(1, 1), stride=(1, 1), bias=False)\n",
              "        (bn3): BatchNormAct2d(\n",
              "          24, eps=1e-05, momentum=0.1, affine=True, track_running_stats=True\n",
              "          (drop): Identity()\n",
              "          (act): Identity()\n",
              "        )\n",
              "        (drop_path): Identity()\n",
              "      )\n",
              "      (1): InvertedResidual(\n",
              "        (conv_pw): Conv2d(24, 88, kernel_size=(1, 1), stride=(1, 1), bias=False)\n",
              "        (bn1): BatchNormAct2d(\n",
              "          88, eps=1e-05, momentum=0.1, affine=True, track_running_stats=True\n",
              "          (drop): Identity()\n",
              "          (act): ReLU(inplace=True)\n",
              "        )\n",
              "        (conv_dw): Conv2d(88, 88, kernel_size=(3, 3), stride=(1, 1), padding=(1, 1), groups=88, bias=False)\n",
              "        (bn2): BatchNormAct2d(\n",
              "          88, eps=1e-05, momentum=0.1, affine=True, track_running_stats=True\n",
              "          (drop): Identity()\n",
              "          (act): ReLU(inplace=True)\n",
              "        )\n",
              "        (se): Identity()\n",
              "        (conv_pwl): Conv2d(88, 24, kernel_size=(1, 1), stride=(1, 1), bias=False)\n",
              "        (bn3): BatchNormAct2d(\n",
              "          24, eps=1e-05, momentum=0.1, affine=True, track_running_stats=True\n",
              "          (drop): Identity()\n",
              "          (act): Identity()\n",
              "        )\n",
              "        (drop_path): Identity()\n",
              "      )\n",
              "    )\n",
              "    (2): Sequential(\n",
              "      (0): InvertedResidual(\n",
              "        (conv_pw): Conv2d(24, 96, kernel_size=(1, 1), stride=(1, 1), bias=False)\n",
              "        (bn1): BatchNormAct2d(\n",
              "          96, eps=1e-05, momentum=0.1, affine=True, track_running_stats=True\n",
              "          (drop): Identity()\n",
              "          (act): Hardswish()\n",
              "        )\n",
              "        (conv_dw): Conv2d(96, 96, kernel_size=(5, 5), stride=(2, 2), padding=(2, 2), groups=96, bias=False)\n",
              "        (bn2): BatchNormAct2d(\n",
              "          96, eps=1e-05, momentum=0.1, affine=True, track_running_stats=True\n",
              "          (drop): Identity()\n",
              "          (act): Hardswish()\n",
              "        )\n",
              "        (se): SqueezeExcite(\n",
              "          (conv_reduce): Conv2d(96, 24, kernel_size=(1, 1), stride=(1, 1))\n",
              "          (act1): ReLU(inplace=True)\n",
              "          (conv_expand): Conv2d(24, 96, kernel_size=(1, 1), stride=(1, 1))\n",
              "          (gate): Hardsigmoid()\n",
              "        )\n",
              "        (conv_pwl): Conv2d(96, 40, kernel_size=(1, 1), stride=(1, 1), bias=False)\n",
              "        (bn3): BatchNormAct2d(\n",
              "          40, eps=1e-05, momentum=0.1, affine=True, track_running_stats=True\n",
              "          (drop): Identity()\n",
              "          (act): Identity()\n",
              "        )\n",
              "        (drop_path): Identity()\n",
              "      )\n",
              "      (1): InvertedResidual(\n",
              "        (conv_pw): Conv2d(40, 240, kernel_size=(1, 1), stride=(1, 1), bias=False)\n",
              "        (bn1): BatchNormAct2d(\n",
              "          240, eps=1e-05, momentum=0.1, affine=True, track_running_stats=True\n",
              "          (drop): Identity()\n",
              "          (act): Hardswish()\n",
              "        )\n",
              "        (conv_dw): Conv2d(240, 240, kernel_size=(5, 5), stride=(1, 1), padding=(2, 2), groups=240, bias=False)\n",
              "        (bn2): BatchNormAct2d(\n",
              "          240, eps=1e-05, momentum=0.1, affine=True, track_running_stats=True\n",
              "          (drop): Identity()\n",
              "          (act): Hardswish()\n",
              "        )\n",
              "        (se): SqueezeExcite(\n",
              "          (conv_reduce): Conv2d(240, 64, kernel_size=(1, 1), stride=(1, 1))\n",
              "          (act1): ReLU(inplace=True)\n",
              "          (conv_expand): Conv2d(64, 240, kernel_size=(1, 1), stride=(1, 1))\n",
              "          (gate): Hardsigmoid()\n",
              "        )\n",
              "        (conv_pwl): Conv2d(240, 40, kernel_size=(1, 1), stride=(1, 1), bias=False)\n",
              "        (bn3): BatchNormAct2d(\n",
              "          40, eps=1e-05, momentum=0.1, affine=True, track_running_stats=True\n",
              "          (drop): Identity()\n",
              "          (act): Identity()\n",
              "        )\n",
              "        (drop_path): Identity()\n",
              "      )\n",
              "      (2): InvertedResidual(\n",
              "        (conv_pw): Conv2d(40, 240, kernel_size=(1, 1), stride=(1, 1), bias=False)\n",
              "        (bn1): BatchNormAct2d(\n",
              "          240, eps=1e-05, momentum=0.1, affine=True, track_running_stats=True\n",
              "          (drop): Identity()\n",
              "          (act): Hardswish()\n",
              "        )\n",
              "        (conv_dw): Conv2d(240, 240, kernel_size=(5, 5), stride=(1, 1), padding=(2, 2), groups=240, bias=False)\n",
              "        (bn2): BatchNormAct2d(\n",
              "          240, eps=1e-05, momentum=0.1, affine=True, track_running_stats=True\n",
              "          (drop): Identity()\n",
              "          (act): Hardswish()\n",
              "        )\n",
              "        (se): SqueezeExcite(\n",
              "          (conv_reduce): Conv2d(240, 64, kernel_size=(1, 1), stride=(1, 1))\n",
              "          (act1): ReLU(inplace=True)\n",
              "          (conv_expand): Conv2d(64, 240, kernel_size=(1, 1), stride=(1, 1))\n",
              "          (gate): Hardsigmoid()\n",
              "        )\n",
              "        (conv_pwl): Conv2d(240, 40, kernel_size=(1, 1), stride=(1, 1), bias=False)\n",
              "        (bn3): BatchNormAct2d(\n",
              "          40, eps=1e-05, momentum=0.1, affine=True, track_running_stats=True\n",
              "          (drop): Identity()\n",
              "          (act): Identity()\n",
              "        )\n",
              "        (drop_path): Identity()\n",
              "      )\n",
              "    )\n",
              "    (3): Sequential(\n",
              "      (0): InvertedResidual(\n",
              "        (conv_pw): Conv2d(40, 120, kernel_size=(1, 1), stride=(1, 1), bias=False)\n",
              "        (bn1): BatchNormAct2d(\n",
              "          120, eps=1e-05, momentum=0.1, affine=True, track_running_stats=True\n",
              "          (drop): Identity()\n",
              "          (act): Hardswish()\n",
              "        )\n",
              "        (conv_dw): Conv2d(120, 120, kernel_size=(5, 5), stride=(1, 1), padding=(2, 2), groups=120, bias=False)\n",
              "        (bn2): BatchNormAct2d(\n",
              "          120, eps=1e-05, momentum=0.1, affine=True, track_running_stats=True\n",
              "          (drop): Identity()\n",
              "          (act): Hardswish()\n",
              "        )\n",
              "        (se): SqueezeExcite(\n",
              "          (conv_reduce): Conv2d(120, 32, kernel_size=(1, 1), stride=(1, 1))\n",
              "          (act1): ReLU(inplace=True)\n",
              "          (conv_expand): Conv2d(32, 120, kernel_size=(1, 1), stride=(1, 1))\n",
              "          (gate): Hardsigmoid()\n",
              "        )\n",
              "        (conv_pwl): Conv2d(120, 48, kernel_size=(1, 1), stride=(1, 1), bias=False)\n",
              "        (bn3): BatchNormAct2d(\n",
              "          48, eps=1e-05, momentum=0.1, affine=True, track_running_stats=True\n",
              "          (drop): Identity()\n",
              "          (act): Identity()\n",
              "        )\n",
              "        (drop_path): Identity()\n",
              "      )\n",
              "      (1): InvertedResidual(\n",
              "        (conv_pw): Conv2d(48, 144, kernel_size=(1, 1), stride=(1, 1), bias=False)\n",
              "        (bn1): BatchNormAct2d(\n",
              "          144, eps=1e-05, momentum=0.1, affine=True, track_running_stats=True\n",
              "          (drop): Identity()\n",
              "          (act): Hardswish()\n",
              "        )\n",
              "        (conv_dw): Conv2d(144, 144, kernel_size=(5, 5), stride=(1, 1), padding=(2, 2), groups=144, bias=False)\n",
              "        (bn2): BatchNormAct2d(\n",
              "          144, eps=1e-05, momentum=0.1, affine=True, track_running_stats=True\n",
              "          (drop): Identity()\n",
              "          (act): Hardswish()\n",
              "        )\n",
              "        (se): SqueezeExcite(\n",
              "          (conv_reduce): Conv2d(144, 40, kernel_size=(1, 1), stride=(1, 1))\n",
              "          (act1): ReLU(inplace=True)\n",
              "          (conv_expand): Conv2d(40, 144, kernel_size=(1, 1), stride=(1, 1))\n",
              "          (gate): Hardsigmoid()\n",
              "        )\n",
              "        (conv_pwl): Conv2d(144, 48, kernel_size=(1, 1), stride=(1, 1), bias=False)\n",
              "        (bn3): BatchNormAct2d(\n",
              "          48, eps=1e-05, momentum=0.1, affine=True, track_running_stats=True\n",
              "          (drop): Identity()\n",
              "          (act): Identity()\n",
              "        )\n",
              "        (drop_path): Identity()\n",
              "      )\n",
              "    )\n",
              "    (4): Sequential(\n",
              "      (0): InvertedResidual(\n",
              "        (conv_pw): Conv2d(48, 288, kernel_size=(1, 1), stride=(1, 1), bias=False)\n",
              "        (bn1): BatchNormAct2d(\n",
              "          288, eps=1e-05, momentum=0.1, affine=True, track_running_stats=True\n",
              "          (drop): Identity()\n",
              "          (act): Hardswish()\n",
              "        )\n",
              "        (conv_dw): Conv2d(288, 288, kernel_size=(5, 5), stride=(2, 2), padding=(2, 2), groups=288, bias=False)\n",
              "        (bn2): BatchNormAct2d(\n",
              "          288, eps=1e-05, momentum=0.1, affine=True, track_running_stats=True\n",
              "          (drop): Identity()\n",
              "          (act): Hardswish()\n",
              "        )\n",
              "        (se): SqueezeExcite(\n",
              "          (conv_reduce): Conv2d(288, 72, kernel_size=(1, 1), stride=(1, 1))\n",
              "          (act1): ReLU(inplace=True)\n",
              "          (conv_expand): Conv2d(72, 288, kernel_size=(1, 1), stride=(1, 1))\n",
              "          (gate): Hardsigmoid()\n",
              "        )\n",
              "        (conv_pwl): Conv2d(288, 96, kernel_size=(1, 1), stride=(1, 1), bias=False)\n",
              "        (bn3): BatchNormAct2d(\n",
              "          96, eps=1e-05, momentum=0.1, affine=True, track_running_stats=True\n",
              "          (drop): Identity()\n",
              "          (act): Identity()\n",
              "        )\n",
              "        (drop_path): Identity()\n",
              "      )\n",
              "      (1): InvertedResidual(\n",
              "        (conv_pw): Conv2d(96, 576, kernel_size=(1, 1), stride=(1, 1), bias=False)\n",
              "        (bn1): BatchNormAct2d(\n",
              "          576, eps=1e-05, momentum=0.1, affine=True, track_running_stats=True\n",
              "          (drop): Identity()\n",
              "          (act): Hardswish()\n",
              "        )\n",
              "        (conv_dw): Conv2d(576, 576, kernel_size=(5, 5), stride=(1, 1), padding=(2, 2), groups=576, bias=False)\n",
              "        (bn2): BatchNormAct2d(\n",
              "          576, eps=1e-05, momentum=0.1, affine=True, track_running_stats=True\n",
              "          (drop): Identity()\n",
              "          (act): Hardswish()\n",
              "        )\n",
              "        (se): SqueezeExcite(\n",
              "          (conv_reduce): Conv2d(576, 144, kernel_size=(1, 1), stride=(1, 1))\n",
              "          (act1): ReLU(inplace=True)\n",
              "          (conv_expand): Conv2d(144, 576, kernel_size=(1, 1), stride=(1, 1))\n",
              "          (gate): Hardsigmoid()\n",
              "        )\n",
              "        (conv_pwl): Conv2d(576, 96, kernel_size=(1, 1), stride=(1, 1), bias=False)\n",
              "        (bn3): BatchNormAct2d(\n",
              "          96, eps=1e-05, momentum=0.1, affine=True, track_running_stats=True\n",
              "          (drop): Identity()\n",
              "          (act): Identity()\n",
              "        )\n",
              "        (drop_path): Identity()\n",
              "      )\n",
              "      (2): InvertedResidual(\n",
              "        (conv_pw): Conv2d(96, 576, kernel_size=(1, 1), stride=(1, 1), bias=False)\n",
              "        (bn1): BatchNormAct2d(\n",
              "          576, eps=1e-05, momentum=0.1, affine=True, track_running_stats=True\n",
              "          (drop): Identity()\n",
              "          (act): Hardswish()\n",
              "        )\n",
              "        (conv_dw): Conv2d(576, 576, kernel_size=(5, 5), stride=(1, 1), padding=(2, 2), groups=576, bias=False)\n",
              "        (bn2): BatchNormAct2d(\n",
              "          576, eps=1e-05, momentum=0.1, affine=True, track_running_stats=True\n",
              "          (drop): Identity()\n",
              "          (act): Hardswish()\n",
              "        )\n",
              "        (se): SqueezeExcite(\n",
              "          (conv_reduce): Conv2d(576, 144, kernel_size=(1, 1), stride=(1, 1))\n",
              "          (act1): ReLU(inplace=True)\n",
              "          (conv_expand): Conv2d(144, 576, kernel_size=(1, 1), stride=(1, 1))\n",
              "          (gate): Hardsigmoid()\n",
              "        )\n",
              "        (conv_pwl): Conv2d(576, 96, kernel_size=(1, 1), stride=(1, 1), bias=False)\n",
              "        (bn3): BatchNormAct2d(\n",
              "          96, eps=1e-05, momentum=0.1, affine=True, track_running_stats=True\n",
              "          (drop): Identity()\n",
              "          (act): Identity()\n",
              "        )\n",
              "        (drop_path): Identity()\n",
              "      )\n",
              "    )\n",
              "    (5): Sequential(\n",
              "      (0): ConvBnAct(\n",
              "        (conv): Conv2d(96, 576, kernel_size=(1, 1), stride=(1, 1), bias=False)\n",
              "        (bn1): BatchNormAct2d(\n",
              "          576, eps=1e-05, momentum=0.1, affine=True, track_running_stats=True\n",
              "          (drop): Identity()\n",
              "          (act): Hardswish()\n",
              "        )\n",
              "        (drop_path): Identity()\n",
              "      )\n",
              "    )\n",
              "  )\n",
              "  (global_pool): SelectAdaptivePool2d(pool_type=avg, flatten=Identity())\n",
              "  (conv_head): Conv2d(576, 1024, kernel_size=(1, 1), stride=(1, 1))\n",
              "  (act2): Hardswish()\n",
              "  (flatten): Flatten(start_dim=1, end_dim=-1)\n",
              "  (classifier): Linear(in_features=1024, out_features=3, bias=True)\n",
              ")"
            ]
          },
          "metadata": {},
          "execution_count": 10
        }
      ],
      "source": [
        "# Define MobileNetV3 model\n",
        "num_classes = 3\n",
        "model = create_model('mobilenetv3_small_100', pretrained=True, num_classes=num_classes)\n",
        "model.to(device)"
      ]
    },
    {
      "cell_type": "code",
      "execution_count": 11,
      "metadata": {
        "id": "h0l532LREqgm"
      },
      "outputs": [],
      "source": [
        "# Define loss function and optimizer\n",
        "criterion = nn.CrossEntropyLoss().to(device)\n",
        "optimizer = optim.Adam(model.parameters(), lr=learning_rate)"
      ]
    },
    {
      "cell_type": "code",
      "source": [
        "# Define learning rate scheduler\n",
        "scheduler = StepLR(optimizer, step_size=2, gamma=0.5)"
      ],
      "metadata": {
        "id": "EzylGdLUxgFP"
      },
      "execution_count": 12,
      "outputs": []
    },
    {
      "cell_type": "code",
      "execution_count": 13,
      "metadata": {
        "id": "SvlBXdv3EzYe"
      },
      "outputs": [],
      "source": [
        "# Lists to store training statistics\n",
        "train_loss_history = []\n",
        "accuracy_history = []\n",
        "\n",
        "# Lists to store training and validation statistics\n",
        "val_loss_history = []\n",
        "val_accuracy_history = []"
      ]
    },
    {
      "cell_type": "code",
      "execution_count": 14,
      "metadata": {
        "id": "J8B3dF0kH7ls"
      },
      "outputs": [],
      "source": [
        "# Function to register hooks for feature extraction\n",
        "def register_hooks(model):\n",
        "    activations = []\n",
        "\n",
        "    def hook_fn(module, input, output):\n",
        "        activations.append(output)\n",
        "\n",
        "    hooks = []\n",
        "    for layer in model.children():\n",
        "        if isinstance(layer, nn.Conv2d):\n",
        "            hook = layer.register_forward_hook(hook_fn)\n",
        "            hooks.append(hook)\n",
        "\n",
        "    return activations, hooks"
      ]
    },
    {
      "cell_type": "code",
      "execution_count": 15,
      "metadata": {
        "id": "M6om0xv-H9PR"
      },
      "outputs": [],
      "source": [
        "# Extract activations and register hooks\n",
        "activations, hooks = register_hooks(model)\n",
        "scaler = GradScaler()"
      ]
    },
    {
      "cell_type": "code",
      "execution_count": 16,
      "metadata": {
        "colab": {
          "base_uri": "https://localhost:8080/"
        },
        "id": "U7rv4gEYErPx",
        "outputId": "7510cee4-9b06-48bc-8569-c2668ca02d5d"
      },
      "outputs": [
        {
          "output_type": "stream",
          "name": "stderr",
          "text": [
            "/usr/local/lib/python3.10/dist-packages/torch/optim/lr_scheduler.py:384: UserWarning: To get the last learning rate computed by the scheduler, please use `get_last_lr()`.\n",
            "  warnings.warn(\"To get the last learning rate computed by the scheduler, \"\n"
          ]
        },
        {
          "output_type": "stream",
          "name": "stdout",
          "text": [
            "Epoch 1/10, LR: 0.001, Train Loss: 4.327448305330779, Accuracy: 0.38123971475589685\n",
            "Epoch 1/10, Val Loss: 1.6027308146158854, Val Accuracy: 0.4043956043956044\n",
            "Epoch 2/10, LR: 0.00025, Train Loss: 1.4336650057842857, Accuracy: 0.4086670323642348\n",
            "Epoch 2/10, Val Loss: 1.2372137268384298, Val Accuracy: 0.3934065934065934\n",
            "Epoch 3/10, LR: 0.0005, Train Loss: 1.0519247828868397, Accuracy: 0.4909489851892485\n",
            "Epoch 3/10, Val Loss: 1.1802313288052877, Val Accuracy: 0.42637362637362636\n",
            "Epoch 4/10, LR: 0.000125, Train Loss: 0.9801558768540098, Accuracy: 0.5490948985189249\n",
            "Epoch 4/10, Val Loss: 0.956800103187561, Val Accuracy: 0.5274725274725275\n",
            "Epoch 5/10, LR: 0.00025, Train Loss: 0.9258263257511875, Accuracy: 0.5770707624794296\n",
            "Epoch 5/10, Val Loss: 0.9294256528218587, Val Accuracy: 0.5626373626373626\n",
            "Epoch 6/10, LR: 6.25e-05, Train Loss: 0.8981131817165174, Accuracy: 0.5924300603400987\n",
            "Epoch 6/10, Val Loss: 0.9328954021135966, Val Accuracy: 0.5692307692307692\n",
            "Epoch 7/10, LR: 0.000125, Train Loss: 0.8787705239496733, Accuracy: 0.5820076796489303\n",
            "Epoch 7/10, Val Loss: 0.9032466212908427, Val Accuracy: 0.5934065934065934\n",
            "Epoch 8/10, LR: 3.125e-05, Train Loss: 0.857719506088056, Accuracy: 0.6044980800877674\n",
            "Epoch 8/10, Val Loss: 0.9435824950536092, Val Accuracy: 0.5538461538461539\n",
            "Epoch 9/10, LR: 6.25e-05, Train Loss: 0.8367309099749515, Accuracy: 0.6176631925397696\n",
            "Epoch 9/10, Val Loss: 0.9106034954388936, Val Accuracy: 0.5868131868131868\n",
            "Epoch 10/10, LR: 1.5625e-05, Train Loss: 0.8455433678208736, Accuracy: 0.6236972024136039\n",
            "Epoch 10/10, Val Loss: 0.8592743198076884, Val Accuracy: 0.6197802197802198\n"
          ]
        }
      ],
      "source": [
        "# Training loop with mixed precision and LR scheduling\n",
        "for epoch in range(epochs):\n",
        "    # Training loop\n",
        "    model.train()\n",
        "    train_loss, correct_predictions, total_samples = 0.0, 0, 0\n",
        "\n",
        "    for inputs, labels in train_loader:\n",
        "        inputs, labels = inputs.to(device), labels.to(device)\n",
        "\n",
        "        with autocast():\n",
        "            optimizer.zero_grad()\n",
        "            outputs = model(inputs)\n",
        "            loss = criterion(outputs, labels)\n",
        "\n",
        "        scaler.scale(loss).backward()\n",
        "        scaler.step(optimizer)\n",
        "        scaler.update()\n",
        "\n",
        "        train_loss += loss.item()\n",
        "        _, preds = torch.max(outputs, 1)\n",
        "        correct_predictions += (preds == labels).sum().item()\n",
        "        total_samples += labels.size(0)\n",
        "\n",
        "    # Validation loop\n",
        "    model.eval()\n",
        "    val_loss, val_correct_predictions, val_total_samples = 0.0, 0, 0\n",
        "\n",
        "    with torch.no_grad():\n",
        "        for inputs, labels in val_loader:\n",
        "            inputs, labels = inputs.to(device), labels.to(device)\n",
        "            outputs = model(inputs)\n",
        "            loss = criterion(outputs, labels)\n",
        "\n",
        "            val_loss += loss.item()\n",
        "            _, preds = torch.max(outputs, 1)\n",
        "            val_correct_predictions += (preds == labels).sum().item()\n",
        "            val_total_samples += labels.size(0)\n",
        "\n",
        "    # Update learning rate\n",
        "    scheduler.step()\n",
        "\n",
        "    # Calculate and print training metrics\n",
        "    accuracy = correct_predictions / total_samples\n",
        "    print(f'Epoch {epoch + 1}/{epochs}, LR: {scheduler.get_lr()[0]}, Train Loss: {train_loss/len(train_loader)}, Accuracy: {accuracy}')\n",
        "\n",
        "    # Calculate and print validation metrics\n",
        "    val_accuracy = val_correct_predictions / val_total_samples\n",
        "    print(f'Epoch {epoch + 1}/{epochs}, Val Loss: {val_loss/len(val_loader)}, Val Accuracy: {val_accuracy}')\n",
        "\n",
        "    # Append metrics to history\n",
        "    train_loss_history.append(train_loss/len(train_loader))\n",
        "    accuracy_history.append(accuracy)\n",
        "    val_accuracy_history.append(val_accuracy)"
      ]
    },
    {
      "cell_type": "code",
      "execution_count": 17,
      "metadata": {
        "id": "jUJqWRJqE-Wc",
        "colab": {
          "base_uri": "https://localhost:8080/",
          "height": 507
        },
        "outputId": "67ca4f5a-62e5-4b8c-a684-9f310e26970c"
      },
      "outputs": [
        {
          "output_type": "display_data",
          "data": {
            "text/plain": [
              "<Figure size 1200x500 with 3 Axes>"
            ],
            "image/png": "[encoded data removed]"
          },
          "metadata": {}
        }
      ],
      "source": [
        "# Plot training loss, accuracy, and validation accuracy\n",
        "plt.figure(figsize=(12, 5))\n",
        "plt.subplot(1, 3, 1)\n",
        "plt.plot(train_loss_history, label='Training Loss')\n",
        "plt.title('Training Loss')\n",
        "plt.xlabel('Epoch')\n",
        "plt.ylabel('Loss')\n",
        "plt.legend()\n",
        "\n",
        "plt.subplot(1, 3, 2)\n",
        "plt.plot(accuracy_history, label='Training Accuracy')\n",
        "plt.title('Training Accuracy')\n",
        "plt.xlabel('Epoch')\n",
        "plt.ylabel('Accuracy')\n",
        "plt.legend()\n",
        "\n",
        "plt.subplot(1, 3, 3)\n",
        "plt.plot(val_accuracy_history, label='Validation Accuracy')\n",
        "plt.title('Validation Accuracy')\n",
        "plt.xlabel('Epoch')\n",
        "plt.ylabel('Accuracy')\n",
        "plt.legend()\n",
        "\n",
        "plt.tight_layout()\n",
        "plt.show()"
      ]
    },
    {
      "cell_type": "code",
      "source": [
        "# Print summary\n",
        "print(\"\\nTraining Summary:\")\n",
        "print(f\"Final Training Loss: {train_loss_history[-1]}\")\n",
        "print(f\"Final Training Accuracy: {accuracy_history[-1]}\")\n",
        "\n",
        "print(\"\\nValidation Summary:\")\n",
        "print(f\"Final Validation Accuracy: {val_accuracy_history[-1]}\")"
      ],
      "metadata": {
        "id": "LATBSvVfWebp",
        "colab": {
          "base_uri": "https://localhost:8080/"
        },
        "outputId": "9c848fbd-8d62-4ba5-ee7a-78ccad1ec69f"
      },
      "execution_count": 18,
      "outputs": [
        {
          "output_type": "stream",
          "name": "stdout",
          "text": [
            "\n",
            "Training Summary:\n",
            "Final Training Loss: 0.8455433678208736\n",
            "Final Training Accuracy: 0.6236972024136039\n",
            "\n",
            "Validation Summary:\n",
            "Final Validation Accuracy: 0.6197802197802198\n"
          ]
        }
      ]
    },
    {
      "cell_type": "code",
      "execution_count": 19,
      "metadata": {
        "id": "WLCXcneRIMh1"
      },
      "outputs": [],
      "source": [
        "# Remove hooks\n",
        "for hook in hooks:\n",
        "    hook.remove()"
      ]
    },
    {
      "cell_type": "code",
      "source": [
        "# Fine-tuning loop\n",
        "fine_tune_train_loss_history = []\n",
        "fine_tune_accuracy_history = []\n",
        "fine_tune_val_accuracy_history = []"
      ],
      "metadata": {
        "id": "2MFyy1xpwmSx"
      },
      "execution_count": 20,
      "outputs": []
    },
    {
      "cell_type": "code",
      "source": [
        "# Unfreeze certain layers for fine-tuning\n",
        "for param in model.parameters():\n",
        "    param.requires_grad = True"
      ],
      "metadata": {
        "id": "NxCRPWsUyLzW"
      },
      "execution_count": 21,
      "outputs": []
    },
    {
      "cell_type": "code",
      "source": [
        "# Decrease the learning rate for fine-tuning\n",
        "fine_tune_optimizer = optim.Adam(model.parameters(), lr=learning_rate / 10)"
      ],
      "metadata": {
        "id": "1GfAm-rVyNei"
      },
      "execution_count": 22,
      "outputs": []
    },
    {
      "cell_type": "code",
      "execution_count": 23,
      "metadata": {
        "id": "bPMPTl8rJVPb",
        "colab": {
          "base_uri": "https://localhost:8080/"
        },
        "outputId": "062a7b22-bffa-49a1-e090-828c9437001d"
      },
      "outputs": [
        {
          "output_type": "stream",
          "name": "stdout",
          "text": [
            "Fine-tune Epoch 1/5, Train Loss: 0.8907911306933353, Accuracy: 0.5968184311574328\n",
            "Fine-tune Epoch 1/5, Val Loss: 0.9260046283404032, Val Accuracy: 0.5868131868131868\n",
            "Fine-tune Epoch 2/5, Train Loss: 0.8773353173021685, Accuracy: 0.6039495337356007\n",
            "Fine-tune Epoch 2/5, Val Loss: 0.8761185089747111, Val Accuracy: 0.6043956043956044\n",
            "Fine-tune Epoch 3/5, Train Loss: 0.8333180985952678, Accuracy: 0.6193088315962699\n",
            "Fine-tune Epoch 3/5, Val Loss: 0.9214438557624817, Val Accuracy: 0.5560439560439561\n",
            "Fine-tune Epoch 4/5, Train Loss: 0.8076190854373732, Accuracy: 0.643993417443774\n",
            "Fine-tune Epoch 4/5, Val Loss: 0.8981689572334289, Val Accuracy: 0.6043956043956044\n",
            "Fine-tune Epoch 5/5, Train Loss: 0.8181324036497819, Accuracy: 0.6269884805266045\n",
            "Fine-tune Epoch 5/5, Val Loss: 0.9056748151779175, Val Accuracy: 0.5648351648351648\n"
          ]
        }
      ],
      "source": [
        "# Fine-tuning loop with validation\n",
        "for epoch in range(fine_tune_epochs):\n",
        "    # Training loop\n",
        "    model.train()\n",
        "    running_loss = 0.0\n",
        "    correct_predictions = 0\n",
        "    total_samples = 0\n",
        "\n",
        "    for inputs, labels in train_loader:\n",
        "        inputs, labels = inputs.to(device), labels.to(device)\n",
        "\n",
        "        with autocast():\n",
        "            fine_tune_optimizer.zero_grad()\n",
        "            outputs = model(inputs)\n",
        "            loss = criterion(outputs, labels)\n",
        "\n",
        "        scaler.scale(loss).backward()\n",
        "        scaler.step(fine_tune_optimizer)\n",
        "        scaler.update()\n",
        "\n",
        "        running_loss += loss.item()\n",
        "        _, preds = torch.max(outputs, 1)\n",
        "        correct_predictions += (preds == labels).sum().item()\n",
        "        total_samples += labels.size(0)\n",
        "\n",
        "    # Validation loop\n",
        "    model.eval()\n",
        "    val_loss, val_correct_predictions, val_total_samples = 0.0, 0, 0\n",
        "\n",
        "    with torch.no_grad():\n",
        "        for inputs, labels in val_loader:\n",
        "            inputs, labels = inputs.to(device), labels.to(device)\n",
        "            outputs = model(inputs)\n",
        "            loss = criterion(outputs, labels)\n",
        "\n",
        "            val_loss += loss.item()\n",
        "            _, preds = torch.max(outputs, 1)\n",
        "            val_correct_predictions += (preds == labels).sum().item()\n",
        "            val_total_samples += labels.size(0)\n",
        "\n",
        "    # Calculate and print training metrics\n",
        "    accuracy = correct_predictions / total_samples\n",
        "    print(f'Fine-tune Epoch {epoch + 1}/{fine_tune_epochs}, Train Loss: {running_loss/len(train_loader)}, Accuracy: {accuracy}')\n",
        "\n",
        "    # Calculate and print validation metrics\n",
        "    val_accuracy = val_correct_predictions / val_total_samples\n",
        "    print(f'Fine-tune Epoch {epoch + 1}/{fine_tune_epochs}, Val Loss: {val_loss/len(val_loader)}, Val Accuracy: {val_accuracy}')\n",
        "\n",
        "    # Append metrics to history\n",
        "    fine_tune_accuracy_history.append(accuracy)\n",
        "    fine_tune_train_loss_history.append(running_loss/len(train_loader))\n",
        "    fine_tune_val_accuracy_history.append(val_accuracy)\n"
      ]
    },
    {
      "cell_type": "code",
      "execution_count": 24,
      "metadata": {
        "id": "WFriz7Q-JWW0",
        "colab": {
          "base_uri": "https://localhost:8080/",
          "height": 507
        },
        "outputId": "197187a7-210c-4687-d671-e1a3ee983724"
      },
      "outputs": [
        {
          "output_type": "display_data",
          "data": {
            "text/plain": [
              "<Figure size 1200x500 with 3 Axes>"
            ],
            "image/png": "[encoded data removed]"
          },
          "metadata": {}
        }
      ],
      "source": [
        "# Plot training loss, accuracy, and validation accuracy\n",
        "plt.figure(figsize=(12, 5))\n",
        "plt.subplot(1, 3, 1)\n",
        "plt.plot(fine_tune_train_loss_history, label='Training Loss')\n",
        "plt.title('Fine-tuning Loss')\n",
        "plt.xlabel('Epoch')\n",
        "plt.ylabel('Loss')\n",
        "plt.legend()\n",
        "\n",
        "plt.subplot(1, 3, 2)\n",
        "plt.plot(fine_tune_accuracy_history, label='Training Accuracy')\n",
        "plt.title('Fine-tuning Accuracy')\n",
        "plt.xlabel('Epoch')\n",
        "plt.ylabel('Accuracy')\n",
        "plt.legend()\n",
        "\n",
        "plt.subplot(1, 3, 3)\n",
        "plt.plot(fine_tune_val_accuracy_history, label='Validation Accuracy')\n",
        "plt.title('Fine-tuning Validation Accuracy')\n",
        "plt.xlabel('Epoch')\n",
        "plt.ylabel('Accuracy')\n",
        "plt.legend()\n",
        "\n",
        "plt.tight_layout()\n",
        "plt.show()"
      ]
    },
    {
      "cell_type": "code",
      "source": [
        "# Print summary\n",
        "print(\"\\nFine-tuning Summary:\")\n",
        "print(f\"Final Fine-tuning Training Loss: {fine_tune_train_loss_history[-1]}\")\n",
        "print(f\"Final Fine-tuning Training Accuracy: {fine_tune_accuracy_history[-1]}\")\n",
        "\n",
        "print(\"\\nFine-tuning Validation Summary:\")\n",
        "print(f\"Final Fine-tuning Validation Accuracy: {fine_tune_val_accuracy_history[-1]}\")"
      ],
      "metadata": {
        "colab": {
          "base_uri": "https://localhost:8080/"
        },
        "id": "xMKI4o3qXT28",
        "outputId": "ce1ad094-7c32-46bf-b9c3-1b31b06cbf74"
      },
      "execution_count": 25,
      "outputs": [
        {
          "output_type": "stream",
          "name": "stdout",
          "text": [
            "\n",
            "Fine-tuning Summary:\n",
            "Final Fine-tuning Training Loss: 0.8181324036497819\n",
            "Final Fine-tuning Training Accuracy: 0.6269884805266045\n",
            "\n",
            "Fine-tuning Validation Summary:\n",
            "Final Fine-tuning Validation Accuracy: 0.5648351648351648\n"
          ]
        }
      ]
    },
    {
      "cell_type": "code",
      "execution_count": 26,
      "metadata": {
        "id": "6RlOSi8PEsHq"
      },
      "outputs": [],
      "source": [
        "# Evaluation\n",
        "model.eval()\n",
        "all_preds = []\n",
        "all_labels = []\n",
        "\n",
        "with torch.no_grad():\n",
        "    for inputs, labels in test_loader:\n",
        "        inputs, labels = inputs.to(device), labels.to(device)\n",
        "        outputs = model(inputs)\n",
        "        _, preds = torch.max(outputs, 1)\n",
        "        all_preds.extend(preds.cpu().numpy())\n",
        "        all_labels.extend(labels.cpu().numpy())"
      ]
    },
    {
      "cell_type": "code",
      "source": [
        "# Convert to NumPy arrays\n",
        "all_preds = np.array(all_preds)\n",
        "all_labels = np.array(all_labels)"
      ],
      "metadata": {
        "id": "hSnBwIC_mR2N"
      },
      "execution_count": 27,
      "outputs": []
    },
    {
      "cell_type": "code",
      "execution_count": 28,
      "metadata": {
        "id": "Eq5J5GrQHoS4"
      },
      "outputs": [],
      "source": [
        "# Calculate metrics\n",
        "accuracy = (all_preds == all_labels).mean()\n",
        "f1 = f1_score(all_labels, all_preds, average='weighted')"
      ]
    },
    {
      "cell_type": "code",
      "execution_count": 29,
      "metadata": {
        "id": "L_fCKEYUEs7c",
        "colab": {
          "base_uri": "https://localhost:8080/"
        },
        "outputId": "a893faa4-5bb1-4eb8-c09b-07815d35ab8a"
      },
      "outputs": [
        {
          "output_type": "stream",
          "name": "stdout",
          "text": [
            "Test Accuracy: 0.6045694200351494\n",
            "F1 Score: 0.5786876698778911\n"
          ]
        }
      ],
      "source": [
        "# Print metrics\n",
        "print(f'Test Accuracy: {accuracy}')\n",
        "print(f'F1 Score: {f1}')"
      ]
    },
    {
      "cell_type": "code",
      "source": [
        "# Get the confusion matrix\n",
        "conf_matrix = confusion_matrix(all_labels, all_preds)\n",
        "\n",
        "# Plot the confusion matrix\n",
        "plt.figure(figsize=(8, 6))\n",
        "sns.heatmap(conf_matrix, annot=True, fmt='d', cmap='Blues', cbar=False)\n",
        "plt.title('Confusion Matrix')\n",
        "plt.xlabel('Predicted')\n",
        "plt.ylabel('Actual')\n",
        "plt.show()"
      ],
      "metadata": {
        "id": "lyfIPzyJ7Ese",
        "colab": {
          "base_uri": "https://localhost:8080/",
          "height": 564
        },
        "outputId": "99172aba-049e-4764-fc04-c6536ec591c2"
      },
      "execution_count": 30,
      "outputs": [
        {
          "output_type": "display_data",
          "data": {
            "text/plain": [
              "<Figure size 800x600 with 1 Axes>"
            ],
            "image/png": "[encoded data removed]"
          },
          "metadata": {}
        }
      ]
    },
    {
      "cell_type": "code",
      "source": [
        "from sklearn.metrics import confusion_matrix, classification_report\n",
        "\n",
        "# Print Classification Report\n",
        "class_names = [str(i) for i in range(num_classes)]  # Replace with your actual class names\n",
        "classification_rep = classification_report(all_labels, all_preds, target_names=class_names)\n",
        "print(\"Classification Report:\\n\", classification_rep)"
      ],
      "metadata": {
        "id": "-vJDzPmQ7PCH",
        "colab": {
          "base_uri": "https://localhost:8080/"
        },
        "outputId": "1e59d240-bafb-49e9-afb3-f5042bcbd328"
      },
      "execution_count": 31,
      "outputs": [
        {
          "output_type": "stream",
          "name": "stdout",
          "text": [
            "Classification Report:\n",
            "               precision    recall  f1-score   support\n",
            "\n",
            "           0       0.55      0.77      0.64       213\n",
            "           1       0.68      0.70      0.69       207\n",
            "           2       0.62      0.23      0.33       149\n",
            "\n",
            "    accuracy                           0.60       569\n",
            "   macro avg       0.62      0.57      0.56       569\n",
            "weighted avg       0.61      0.60      0.58       569\n",
            "\n"
          ]
        }
      ]
    },
    {
      "cell_type": "code",
      "source": [
        "!pip install torchviz"
      ],
      "metadata": {
        "id": "Gssum6csOyt7",
        "colab": {
          "base_uri": "https://localhost:8080/"
        },
        "outputId": "296574cb-ccec-4903-e60a-e572fc631206"
      },
      "execution_count": 32,
      "outputs": [
        {
          "output_type": "stream",
          "name": "stdout",
          "text": [
            "Collecting torchviz\n",
            "  Downloading torchviz-0.0.2.tar.gz (4.9 kB)\n",
            "  Preparing metadata (setup.py) ... \u001b[?25l\u001b[?25hdone\n",
            "Requirement already satisfied: torch in /usr/local/lib/python3.10/dist-packages (from torchviz) (2.1.0+cu121)\n",
            "Requirement already satisfied: graphviz in /usr/local/lib/python3.10/dist-packages (from torchviz) (0.20.1)\n",
            "Requirement already satisfied: filelock in /usr/local/lib/python3.10/dist-packages (from torch->torchviz) (3.13.1)\n",
            "Requirement already satisfied: typing-extensions in /usr/local/lib/python3.10/dist-packages (from torch->torchviz) (4.5.0)\n",
            "Requirement already satisfied: sympy in /usr/local/lib/python3.10/dist-packages (from torch->torchviz) (1.12)\n",
            "Requirement already satisfied: networkx in /usr/local/lib/python3.10/dist-packages (from torch->torchviz) (3.2.1)\n",
            "Requirement already satisfied: jinja2 in /usr/local/lib/python3.10/dist-packages (from torch->torchviz) (3.1.2)\n",
            "Requirement already satisfied: fsspec in /usr/local/lib/python3.10/dist-packages (from torch->torchviz) (2023.6.0)\n",
            "Requirement already satisfied: triton==2.1.0 in /usr/local/lib/python3.10/dist-packages (from torch->torchviz) (2.1.0)\n",
            "Requirement already satisfied: MarkupSafe>=2.0 in /usr/local/lib/python3.10/dist-packages (from jinja2->torch->torchviz) (2.1.3)\n",
            "Requirement already satisfied: mpmath>=0.19 in /usr/local/lib/python3.10/dist-packages (from sympy->torch->torchviz) (1.3.0)\n",
            "Building wheels for collected packages: torchviz\n",
            "  Building wheel for torchviz (setup.py) ... \u001b[?25l\u001b[?25hdone\n",
            "  Created wheel for torchviz: filename=torchviz-0.0.2-py3-none-any.whl size=4131 sha256=e08b144df8148a9b4f4f13304faf79dcfcdb22354ba2be27ce60b5663b455a0c\n",
            "  Stored in directory: /root/.cache/pip/wheels/4c/97/88/a02973217949e0db0c9f4346d154085f4725f99c4f15a87094\n",
            "Successfully built torchviz\n",
            "Installing collected packages: torchviz\n",
            "Successfully installed torchviz-0.0.2\n"
          ]
        }
      ]
    },
    {
      "cell_type": "code",
      "source": [
        "# Import library tambahan\n",
        "from torchviz import make_dot\n",
        "\n",
        "# Fungsi untuk menyimpan model summary sebagai gambar\n",
        "def save_model_summary_as_image(model, input_tensor, filename=\"model_summary.png\"):\n",
        "    # Buat graph dari model menggunakan torchviz\n",
        "    graph = make_dot(model(input_tensor), params=dict(model.named_parameters()))\n",
        "\n",
        "    # Simpan grafik sebagai gambar\n",
        "    graph.render(filename, format='png')\n",
        "\n",
        "# Visualisasi arsitektur model dan simpan sebagai gambar\n",
        "input_tensor = torch.randn(1, 3, image_size[0], image_size[1]).to(device)  # Input tensor contoh\n",
        "save_model_summary_as_image(model, input_tensor)"
      ],
      "metadata": {
        "id": "3vGN0msYKbF4"
      },
      "execution_count": 33,
      "outputs": []
    },
    {
      "cell_type": "code",
      "source": [
        "from torchsummary import summary\n",
        "\n",
        "input_size = (3, 112, 112)\n",
        "# Definisikan fungsi untuk mencetak model summary\n",
        "def print_model_summary(model, input_size):\n",
        "    summary(model, input_size=input_size, device='cuda')\n",
        "\n",
        "# Cetak model summary dalam bentuk teks\n",
        "print_model_summary(model, input_size)"
      ],
      "metadata": {
        "colab": {
          "base_uri": "https://localhost:8080/"
        },
        "id": "r712oh1gdClv",
        "outputId": "77f552e7-bccb-48a1-fd1f-2e0f97444598"
      },
      "execution_count": 34,
      "outputs": [
        {
          "output_type": "stream",
          "name": "stdout",
          "text": [
            "----------------------------------------------------------------\n",
            "        Layer (type)               Output Shape         Param #\n",
            "================================================================\n",
            "            Conv2d-1           [-1, 16, 56, 56]             432\n",
            "          Identity-2           [-1, 16, 56, 56]               0\n",
            "         Hardswish-3           [-1, 16, 56, 56]               0\n",
            "    BatchNormAct2d-4           [-1, 16, 56, 56]              32\n",
            "            Conv2d-5           [-1, 16, 28, 28]             144\n",
            "          Identity-6           [-1, 16, 28, 28]               0\n",
            "              ReLU-7           [-1, 16, 28, 28]               0\n",
            "    BatchNormAct2d-8           [-1, 16, 28, 28]              32\n",
            "            Conv2d-9              [-1, 8, 1, 1]             136\n",
            "             ReLU-10              [-1, 8, 1, 1]               0\n",
            "           Conv2d-11             [-1, 16, 1, 1]             144\n",
            "      Hardsigmoid-12             [-1, 16, 1, 1]               0\n",
            "    SqueezeExcite-13           [-1, 16, 28, 28]               0\n",
            "           Conv2d-14           [-1, 16, 28, 28]             256\n",
            "         Identity-15           [-1, 16, 28, 28]               0\n",
            "         Identity-16           [-1, 16, 28, 28]               0\n",
            "   BatchNormAct2d-17           [-1, 16, 28, 28]              32\n",
            "DepthwiseSeparableConv-18           [-1, 16, 28, 28]               0\n",
            "           Conv2d-19           [-1, 72, 28, 28]           1,152\n",
            "         Identity-20           [-1, 72, 28, 28]               0\n",
            "             ReLU-21           [-1, 72, 28, 28]               0\n",
            "   BatchNormAct2d-22           [-1, 72, 28, 28]             144\n",
            "           Conv2d-23           [-1, 72, 14, 14]             648\n",
            "         Identity-24           [-1, 72, 14, 14]               0\n",
            "             ReLU-25           [-1, 72, 14, 14]               0\n",
            "   BatchNormAct2d-26           [-1, 72, 14, 14]             144\n",
            "         Identity-27           [-1, 72, 14, 14]               0\n",
            "           Conv2d-28           [-1, 24, 14, 14]           1,728\n",
            "         Identity-29           [-1, 24, 14, 14]               0\n",
            "         Identity-30           [-1, 24, 14, 14]               0\n",
            "   BatchNormAct2d-31           [-1, 24, 14, 14]              48\n",
            " InvertedResidual-32           [-1, 24, 14, 14]               0\n",
            "           Conv2d-33           [-1, 88, 14, 14]           2,112\n",
            "         Identity-34           [-1, 88, 14, 14]               0\n",
            "             ReLU-35           [-1, 88, 14, 14]               0\n",
            "   BatchNormAct2d-36           [-1, 88, 14, 14]             176\n",
            "           Conv2d-37           [-1, 88, 14, 14]             792\n",
            "         Identity-38           [-1, 88, 14, 14]               0\n",
            "             ReLU-39           [-1, 88, 14, 14]               0\n",
            "   BatchNormAct2d-40           [-1, 88, 14, 14]             176\n",
            "         Identity-41           [-1, 88, 14, 14]               0\n",
            "           Conv2d-42           [-1, 24, 14, 14]           2,112\n",
            "         Identity-43           [-1, 24, 14, 14]               0\n",
            "         Identity-44           [-1, 24, 14, 14]               0\n",
            "   BatchNormAct2d-45           [-1, 24, 14, 14]              48\n",
            "         Identity-46           [-1, 24, 14, 14]               0\n",
            " InvertedResidual-47           [-1, 24, 14, 14]               0\n",
            "           Conv2d-48           [-1, 96, 14, 14]           2,304\n",
            "         Identity-49           [-1, 96, 14, 14]               0\n",
            "        Hardswish-50           [-1, 96, 14, 14]               0\n",
            "   BatchNormAct2d-51           [-1, 96, 14, 14]             192\n",
            "           Conv2d-52             [-1, 96, 7, 7]           2,400\n",
            "         Identity-53             [-1, 96, 7, 7]               0\n",
            "        Hardswish-54             [-1, 96, 7, 7]               0\n",
            "   BatchNormAct2d-55             [-1, 96, 7, 7]             192\n",
            "           Conv2d-56             [-1, 24, 1, 1]           2,328\n",
            "             ReLU-57             [-1, 24, 1, 1]               0\n",
            "           Conv2d-58             [-1, 96, 1, 1]           2,400\n",
            "      Hardsigmoid-59             [-1, 96, 1, 1]               0\n",
            "    SqueezeExcite-60             [-1, 96, 7, 7]               0\n",
            "           Conv2d-61             [-1, 40, 7, 7]           3,840\n",
            "         Identity-62             [-1, 40, 7, 7]               0\n",
            "         Identity-63             [-1, 40, 7, 7]               0\n",
            "   BatchNormAct2d-64             [-1, 40, 7, 7]              80\n",
            " InvertedResidual-65             [-1, 40, 7, 7]               0\n",
            "           Conv2d-66            [-1, 240, 7, 7]           9,600\n",
            "         Identity-67            [-1, 240, 7, 7]               0\n",
            "        Hardswish-68            [-1, 240, 7, 7]               0\n",
            "   BatchNormAct2d-69            [-1, 240, 7, 7]             480\n",
            "           Conv2d-70            [-1, 240, 7, 7]           6,000\n",
            "         Identity-71            [-1, 240, 7, 7]               0\n",
            "        Hardswish-72            [-1, 240, 7, 7]               0\n",
            "   BatchNormAct2d-73            [-1, 240, 7, 7]             480\n",
            "           Conv2d-74             [-1, 64, 1, 1]          15,424\n",
            "             ReLU-75             [-1, 64, 1, 1]               0\n",
            "           Conv2d-76            [-1, 240, 1, 1]          15,600\n",
            "      Hardsigmoid-77            [-1, 240, 1, 1]               0\n",
            "    SqueezeExcite-78            [-1, 240, 7, 7]               0\n",
            "           Conv2d-79             [-1, 40, 7, 7]           9,600\n",
            "         Identity-80             [-1, 40, 7, 7]               0\n",
            "         Identity-81             [-1, 40, 7, 7]               0\n",
            "   BatchNormAct2d-82             [-1, 40, 7, 7]              80\n",
            "         Identity-83             [-1, 40, 7, 7]               0\n",
            " InvertedResidual-84             [-1, 40, 7, 7]               0\n",
            "           Conv2d-85            [-1, 240, 7, 7]           9,600\n",
            "         Identity-86            [-1, 240, 7, 7]               0\n",
            "        Hardswish-87            [-1, 240, 7, 7]               0\n",
            "   BatchNormAct2d-88            [-1, 240, 7, 7]             480\n",
            "           Conv2d-89            [-1, 240, 7, 7]           6,000\n",
            "         Identity-90            [-1, 240, 7, 7]               0\n",
            "        Hardswish-91            [-1, 240, 7, 7]               0\n",
            "   BatchNormAct2d-92            [-1, 240, 7, 7]             480\n",
            "           Conv2d-93             [-1, 64, 1, 1]          15,424\n",
            "             ReLU-94             [-1, 64, 1, 1]               0\n",
            "           Conv2d-95            [-1, 240, 1, 1]          15,600\n",
            "      Hardsigmoid-96            [-1, 240, 1, 1]               0\n",
            "    SqueezeExcite-97            [-1, 240, 7, 7]               0\n",
            "           Conv2d-98             [-1, 40, 7, 7]           9,600\n",
            "         Identity-99             [-1, 40, 7, 7]               0\n",
            "        Identity-100             [-1, 40, 7, 7]               0\n",
            "  BatchNormAct2d-101             [-1, 40, 7, 7]              80\n",
            "        Identity-102             [-1, 40, 7, 7]               0\n",
            "InvertedResidual-103             [-1, 40, 7, 7]               0\n",
            "          Conv2d-104            [-1, 120, 7, 7]           4,800\n",
            "        Identity-105            [-1, 120, 7, 7]               0\n",
            "       Hardswish-106            [-1, 120, 7, 7]               0\n",
            "  BatchNormAct2d-107            [-1, 120, 7, 7]             240\n",
            "          Conv2d-108            [-1, 120, 7, 7]           3,000\n",
            "        Identity-109            [-1, 120, 7, 7]               0\n",
            "       Hardswish-110            [-1, 120, 7, 7]               0\n",
            "  BatchNormAct2d-111            [-1, 120, 7, 7]             240\n",
            "          Conv2d-112             [-1, 32, 1, 1]           3,872\n",
            "            ReLU-113             [-1, 32, 1, 1]               0\n",
            "          Conv2d-114            [-1, 120, 1, 1]           3,960\n",
            "     Hardsigmoid-115            [-1, 120, 1, 1]               0\n",
            "   SqueezeExcite-116            [-1, 120, 7, 7]               0\n",
            "          Conv2d-117             [-1, 48, 7, 7]           5,760\n",
            "        Identity-118             [-1, 48, 7, 7]               0\n",
            "        Identity-119             [-1, 48, 7, 7]               0\n",
            "  BatchNormAct2d-120             [-1, 48, 7, 7]              96\n",
            "InvertedResidual-121             [-1, 48, 7, 7]               0\n",
            "          Conv2d-122            [-1, 144, 7, 7]           6,912\n",
            "        Identity-123            [-1, 144, 7, 7]               0\n",
            "       Hardswish-124            [-1, 144, 7, 7]               0\n",
            "  BatchNormAct2d-125            [-1, 144, 7, 7]             288\n",
            "          Conv2d-126            [-1, 144, 7, 7]           3,600\n",
            "        Identity-127            [-1, 144, 7, 7]               0\n",
            "       Hardswish-128            [-1, 144, 7, 7]               0\n",
            "  BatchNormAct2d-129            [-1, 144, 7, 7]             288\n",
            "          Conv2d-130             [-1, 40, 1, 1]           5,800\n",
            "            ReLU-131             [-1, 40, 1, 1]               0\n",
            "          Conv2d-132            [-1, 144, 1, 1]           5,904\n",
            "     Hardsigmoid-133            [-1, 144, 1, 1]               0\n",
            "   SqueezeExcite-134            [-1, 144, 7, 7]               0\n",
            "          Conv2d-135             [-1, 48, 7, 7]           6,912\n",
            "        Identity-136             [-1, 48, 7, 7]               0\n",
            "        Identity-137             [-1, 48, 7, 7]               0\n",
            "  BatchNormAct2d-138             [-1, 48, 7, 7]              96\n",
            "        Identity-139             [-1, 48, 7, 7]               0\n",
            "InvertedResidual-140             [-1, 48, 7, 7]               0\n",
            "          Conv2d-141            [-1, 288, 7, 7]          13,824\n",
            "        Identity-142            [-1, 288, 7, 7]               0\n",
            "       Hardswish-143            [-1, 288, 7, 7]               0\n",
            "  BatchNormAct2d-144            [-1, 288, 7, 7]             576\n",
            "          Conv2d-145            [-1, 288, 4, 4]           7,200\n",
            "        Identity-146            [-1, 288, 4, 4]               0\n",
            "       Hardswish-147            [-1, 288, 4, 4]               0\n",
            "  BatchNormAct2d-148            [-1, 288, 4, 4]             576\n",
            "          Conv2d-149             [-1, 72, 1, 1]          20,808\n",
            "            ReLU-150             [-1, 72, 1, 1]               0\n",
            "          Conv2d-151            [-1, 288, 1, 1]          21,024\n",
            "     Hardsigmoid-152            [-1, 288, 1, 1]               0\n",
            "   SqueezeExcite-153            [-1, 288, 4, 4]               0\n",
            "          Conv2d-154             [-1, 96, 4, 4]          27,648\n",
            "        Identity-155             [-1, 96, 4, 4]               0\n",
            "        Identity-156             [-1, 96, 4, 4]               0\n",
            "  BatchNormAct2d-157             [-1, 96, 4, 4]             192\n",
            "InvertedResidual-158             [-1, 96, 4, 4]               0\n",
            "          Conv2d-159            [-1, 576, 4, 4]          55,296\n",
            "        Identity-160            [-1, 576, 4, 4]               0\n",
            "       Hardswish-161            [-1, 576, 4, 4]               0\n",
            "  BatchNormAct2d-162            [-1, 576, 4, 4]           1,152\n",
            "          Conv2d-163            [-1, 576, 4, 4]          14,400\n",
            "        Identity-164            [-1, 576, 4, 4]               0\n",
            "       Hardswish-165            [-1, 576, 4, 4]               0\n",
            "  BatchNormAct2d-166            [-1, 576, 4, 4]           1,152\n",
            "          Conv2d-167            [-1, 144, 1, 1]          83,088\n",
            "            ReLU-168            [-1, 144, 1, 1]               0\n",
            "          Conv2d-169            [-1, 576, 1, 1]          83,520\n",
            "     Hardsigmoid-170            [-1, 576, 1, 1]               0\n",
            "   SqueezeExcite-171            [-1, 576, 4, 4]               0\n",
            "          Conv2d-172             [-1, 96, 4, 4]          55,296\n",
            "        Identity-173             [-1, 96, 4, 4]               0\n",
            "        Identity-174             [-1, 96, 4, 4]               0\n",
            "  BatchNormAct2d-175             [-1, 96, 4, 4]             192\n",
            "        Identity-176             [-1, 96, 4, 4]               0\n",
            "InvertedResidual-177             [-1, 96, 4, 4]               0\n",
            "          Conv2d-178            [-1, 576, 4, 4]          55,296\n",
            "        Identity-179            [-1, 576, 4, 4]               0\n",
            "       Hardswish-180            [-1, 576, 4, 4]               0\n",
            "  BatchNormAct2d-181            [-1, 576, 4, 4]           1,152\n",
            "          Conv2d-182            [-1, 576, 4, 4]          14,400\n",
            "        Identity-183            [-1, 576, 4, 4]               0\n",
            "       Hardswish-184            [-1, 576, 4, 4]               0\n",
            "  BatchNormAct2d-185            [-1, 576, 4, 4]           1,152\n",
            "          Conv2d-186            [-1, 144, 1, 1]          83,088\n",
            "            ReLU-187            [-1, 144, 1, 1]               0\n",
            "          Conv2d-188            [-1, 576, 1, 1]          83,520\n",
            "     Hardsigmoid-189            [-1, 576, 1, 1]               0\n",
            "   SqueezeExcite-190            [-1, 576, 4, 4]               0\n",
            "          Conv2d-191             [-1, 96, 4, 4]          55,296\n",
            "        Identity-192             [-1, 96, 4, 4]               0\n",
            "        Identity-193             [-1, 96, 4, 4]               0\n",
            "  BatchNormAct2d-194             [-1, 96, 4, 4]             192\n",
            "        Identity-195             [-1, 96, 4, 4]               0\n",
            "InvertedResidual-196             [-1, 96, 4, 4]               0\n",
            "          Conv2d-197            [-1, 576, 4, 4]          55,296\n",
            "        Identity-198            [-1, 576, 4, 4]               0\n",
            "       Hardswish-199            [-1, 576, 4, 4]               0\n",
            "  BatchNormAct2d-200            [-1, 576, 4, 4]           1,152\n",
            "       ConvBnAct-201            [-1, 576, 4, 4]               0\n",
            "AdaptiveAvgPool2d-202            [-1, 576, 1, 1]               0\n",
            "        Identity-203            [-1, 576, 1, 1]               0\n",
            "SelectAdaptivePool2d-204            [-1, 576, 1, 1]               0\n",
            "          Conv2d-205           [-1, 1024, 1, 1]         590,848\n",
            "       Hardswish-206           [-1, 1024, 1, 1]               0\n",
            "         Flatten-207                 [-1, 1024]               0\n",
            "          Linear-208                    [-1, 3]           3,075\n",
            "================================================================\n",
            "Total params: 1,520,931\n",
            "Trainable params: 1,520,931\n",
            "Non-trainable params: 0\n",
            "----------------------------------------------------------------\n",
            "Input size (MB): 0.14\n",
            "Forward/backward pass size (MB): 12.54\n",
            "Params size (MB): 5.80\n",
            "Estimated Total Size (MB): 18.49\n",
            "----------------------------------------------------------------\n"
          ]
        }
      ]
    }
  ],
  "metadata": {
    "accelerator": "GPU",
    "colab": {
      "provenance": [],
      "gpuType": "T4"
    },
    "kernelspec": {
      "display_name": "Python 3",
      "name": "python3"
    },
    "language_info": {
      "name": "python"
    },
    "widgets": {
      "application/vnd.jupyter.widget-state+json": {
        "3db2ae7fd43540d0bb4b86ce65638701": {
          "model_module": "@jupyter-widgets/controls",
          "model_name": "HBoxModel",
          "model_module_version": "1.5.0",
          "state": {
            "_dom_classes": [],
            "_model_module": "@jupyter-widgets/controls",
            "_model_module_version": "1.5.0",
            "_model_name": "HBoxModel",
            "_view_count": null,
            "_view_module": "@jupyter-widgets/controls",
            "_view_module_version": "1.5.0",
            "_view_name": "HBoxView",
            "box_style": "",
            "children": [
              "IPY_MODEL_d5919c844983459b8a7e2da1c4fecb18",
              "IPY_MODEL_69a062d57e304c9ab1d5666fb4e7f83f",
              "IPY_MODEL_edaf375dbce74dfca30b4b92120a34a7"
            ],
            "layout": "IPY_MODEL_838a5030f91e493aaba46eac0ae71506"
          }
        },
        "d5919c844983459b8a7e2da1c4fecb18": {
          "model_module": "@jupyter-widgets/controls",
          "model_name": "HTMLModel",
          "model_module_version": "1.5.0",
          "state": {
            "_dom_classes": [],
            "_model_module": "@jupyter-widgets/controls",
            "_model_module_version": "1.5.0",
            "_model_name": "HTMLModel",
            "_view_count": null,
            "_view_module": "@jupyter-widgets/controls",
            "_view_module_version": "1.5.0",
            "_view_name": "HTMLView",
            "description": "",
            "description_tooltip": null,
            "layout": "IPY_MODEL_93749f4365a148bbb6d4db4ccaed32d2",
            "placeholder": "​",
            "style": "IPY_MODEL_4d2c0a1ab6af44b6abdfab8aa397e571",
            "value": "model.safetensors: 100%"
          }
        },
        "69a062d57e304c9ab1d5666fb4e7f83f": {
          "model_module": "@jupyter-widgets/controls",
          "model_name": "FloatProgressModel",
          "model_module_version": "1.5.0",
          "state": {
            "_dom_classes": [],
            "_model_module": "@jupyter-widgets/controls",
            "_model_module_version": "1.5.0",
            "_model_name": "FloatProgressModel",
            "_view_count": null,
            "_view_module": "@jupyter-widgets/controls",
            "_view_module_version": "1.5.0",
            "_view_name": "ProgressView",
            "bar_style": "success",
            "description": "",
            "description_tooltip": null,
            "layout": "IPY_MODEL_f797002fb280421588819e41a663d772",
            "max": 10241912,
            "min": 0,
            "orientation": "horizontal",
            "style": "IPY_MODEL_c56df88c3c9b4301b96a5f2ee6bdb110",
            "value": 10241912
          }
        },
        "edaf375dbce74dfca30b4b92120a34a7": {
          "model_module": "@jupyter-widgets/controls",
          "model_name": "HTMLModel",
          "model_module_version": "1.5.0",
          "state": {
            "_dom_classes": [],
            "_model_module": "@jupyter-widgets/controls",
            "_model_module_version": "1.5.0",
            "_model_name": "HTMLModel",
            "_view_count": null,
            "_view_module": "@jupyter-widgets/controls",
            "_view_module_version": "1.5.0",
            "_view_name": "HTMLView",
            "description": "",
            "description_tooltip": null,
            "layout": "IPY_MODEL_123367330e824fa1ab87e9887b719914",
            "placeholder": "​",
            "style": "IPY_MODEL_5103497e68394c76bf66944c751f4817",
            "value": " 10.2M/10.2M [00:00&lt;00:00, 56.2MB/s]"
          }
        },
        "838a5030f91e493aaba46eac0ae71506": {
          "model_module": "@jupyter-widgets/base",
          "model_name": "LayoutModel",
          "model_module_version": "1.2.0",
          "state": {
            "_model_module": "@jupyter-widgets/base",
            "_model_module_version": "1.2.0",
            "_model_name": "LayoutModel",
            "_view_count": null,
            "_view_module": "@jupyter-widgets/base",
            "_view_module_version": "1.2.0",
            "_view_name": "LayoutView",
            "align_content": null,
            "align_items": null,
            "align_self": null,
            "border": null,
            "bottom": null,
            "display": null,
            "flex": null,
            "flex_flow": null,
            "grid_area": null,
            "grid_auto_columns": null,
            "grid_auto_flow": null,
            "grid_auto_rows": null,
            "grid_column": null,
            "grid_gap": null,
            "grid_row": null,
            "grid_template_areas": null,
            "grid_template_columns": null,
            "grid_template_rows": null,
            "height": null,
            "justify_content": null,
            "justify_items": null,
            "left": null,
            "margin": null,
            "max_height": null,
            "max_width": null,
            "min_height": null,
            "min_width": null,
            "object_fit": null,
            "object_position": null,
            "order": null,
            "overflow": null,
            "overflow_x": null,
            "overflow_y": null,
            "padding": null,
            "right": null,
            "top": null,
            "visibility": null,
            "width": null
          }
        },
        "93749f4365a148bbb6d4db4ccaed32d2": {
          "model_module": "@jupyter-widgets/base",
          "model_name": "LayoutModel",
          "model_module_version": "1.2.0",
          "state": {
            "_model_module": "@jupyter-widgets/base",
            "_model_module_version": "1.2.0",
            "_model_name": "LayoutModel",
            "_view_count": null,
            "_view_module": "@jupyter-widgets/base",
            "_view_module_version": "1.2.0",
            "_view_name": "LayoutView",
            "align_content": null,
            "align_items": null,
            "align_self": null,
            "border": null,
            "bottom": null,
            "display": null,
            "flex": null,
            "flex_flow": null,
            "grid_area": null,
            "grid_auto_columns": null,
            "grid_auto_flow": null,
            "grid_auto_rows": null,
            "grid_column": null,
            "grid_gap": null,
            "grid_row": null,
            "grid_template_areas": null,
            "grid_template_columns": null,
            "grid_template_rows": null,
            "height": null,
            "justify_content": null,
            "justify_items": null,
            "left": null,
            "margin": null,
            "max_height": null,
            "max_width": null,
            "min_height": null,
            "min_width": null,
            "object_fit": null,
            "object_position": null,
            "order": null,
            "overflow": null,
            "overflow_x": null,
            "overflow_y": null,
            "padding": null,
            "right": null,
            "top": null,
            "visibility": null,
            "width": null
          }
        },
        "4d2c0a1ab6af44b6abdfab8aa397e571": {
          "model_module": "@jupyter-widgets/controls",
          "model_name": "DescriptionStyleModel",
          "model_module_version": "1.5.0",
          "state": {
            "_model_module": "@jupyter-widgets/controls",
            "_model_module_version": "1.5.0",
            "_model_name": "DescriptionStyleModel",
            "_view_count": null,
            "_view_module": "@jupyter-widgets/base",
            "_view_module_version": "1.2.0",
            "_view_name": "StyleView",
            "description_width": ""
          }
        },
        "f797002fb280421588819e41a663d772": {
          "model_module": "@jupyter-widgets/base",
          "model_name": "LayoutModel",
          "model_module_version": "1.2.0",
          "state": {
            "_model_module": "@jupyter-widgets/base",
            "_model_module_version": "1.2.0",
            "_model_name": "LayoutModel",
            "_view_count": null,
            "_view_module": "@jupyter-widgets/base",
            "_view_module_version": "1.2.0",
            "_view_name": "LayoutView",
            "align_content": null,
            "align_items": null,
            "align_self": null,
            "border": null,
            "bottom": null,
            "display": null,
            "flex": null,
            "flex_flow": null,
            "grid_area": null,
            "grid_auto_columns": null,
            "grid_auto_flow": null,
            "grid_auto_rows": null,
            "grid_column": null,
            "grid_gap": null,
            "grid_row": null,
            "grid_template_areas": null,
            "grid_template_columns": null,
            "grid_template_rows": null,
            "height": null,
            "justify_content": null,
            "justify_items": null,
            "left": null,
            "margin": null,
            "max_height": null,
            "max_width": null,
            "min_height": null,
            "min_width": null,
            "object_fit": null,
            "object_position": null,
            "order": null,
            "overflow": null,
            "overflow_x": null,
            "overflow_y": null,
            "padding": null,
            "right": null,
            "top": null,
            "visibility": null,
            "width": null
          }
        },
        "c56df88c3c9b4301b96a5f2ee6bdb110": {
          "model_module": "@jupyter-widgets/controls",
          "model_name": "ProgressStyleModel",
          "model_module_version": "1.5.0",
          "state": {
            "_model_module": "@jupyter-widgets/controls",
            "_model_module_version": "1.5.0",
            "_model_name": "ProgressStyleModel",
            "_view_count": null,
            "_view_module": "@jupyter-widgets/base",
            "_view_module_version": "1.2.0",
            "_view_name": "StyleView",
            "bar_color": null,
            "description_width": ""
          }
        },
        "123367330e824fa1ab87e9887b719914": {
          "model_module": "@jupyter-widgets/base",
          "model_name": "LayoutModel",
          "model_module_version": "1.2.0",
          "state": {
            "_model_module": "@jupyter-widgets/base",
            "_model_module_version": "1.2.0",
            "_model_name": "LayoutModel",
            "_view_count": null,
            "_view_module": "@jupyter-widgets/base",
            "_view_module_version": "1.2.0",
            "_view_name": "LayoutView",
            "align_content": null,
            "align_items": null,
            "align_self": null,
            "border": null,
            "bottom": null,
            "display": null,
            "flex": null,
            "flex_flow": null,
            "grid_area": null,
            "grid_auto_columns": null,
            "grid_auto_flow": null,
            "grid_auto_rows": null,
            "grid_column": null,
            "grid_gap": null,
            "grid_row": null,
            "grid_template_areas": null,
            "grid_template_columns": null,
            "grid_template_rows": null,
            "height": null,
            "justify_content": null,
            "justify_items": null,
            "left": null,
            "margin": null,
            "max_height": null,
            "max_width": null,
            "min_height": null,
            "min_width": null,
            "object_fit": null,
            "object_position": null,
            "order": null,
            "overflow": null,
            "overflow_x": null,
            "overflow_y": null,
            "padding": null,
            "right": null,
            "top": null,
            "visibility": null,
            "width": null
          }
        },
        "5103497e68394c76bf66944c751f4817": {
          "model_module": "@jupyter-widgets/controls",
          "model_name": "DescriptionStyleModel",
          "model_module_version": "1.5.0",
          "state": {
            "_model_module": "@jupyter-widgets/controls",
            "_model_module_version": "1.5.0",
            "_model_name": "DescriptionStyleModel",
            "_view_count": null,
            "_view_module": "@jupyter-widgets/base",
            "_view_module_version": "1.2.0",
            "_view_name": "StyleView",
            "description_width": ""
          }
        }
      }
    }
  },
  "nbformat": 4,
  "nbformat_minor": 0
}