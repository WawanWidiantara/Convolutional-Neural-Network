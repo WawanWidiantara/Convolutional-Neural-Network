{
  "nbformat": 4,
  "nbformat_minor": 0,
  "metadata": {
    "colab": {
      "provenance": [],
      "gpuType": "T4"
    },
    "kernelspec": {
      "name": "python3",
      "display_name": "Python 3"
    },
    "language_info": {
      "name": "python"
    },
    "accelerator": "GPU"
  },
  "cells": [
    {
      "cell_type": "code",
      "source": [
        "from google.colab import drive\n",
        "drive.mount('/content/drive')"
      ],
      "metadata": {
        "id": "oX-qbqG1jrVO",
        "outputId": "0d1d8b3f-9d0c-4673-b62c-d4b02eaf0963",
        "colab": {
          "base_uri": "https://localhost:8080/"
        }
      },
      "execution_count": null,
      "outputs": [
        {
          "output_type": "stream",
          "name": "stdout",
          "text": [
            "Drive already mounted at /content/drive; to attempt to forcibly remount, call drive.mount(\"/content/drive\", force_remount=True).\n"
          ]
        }
      ]
    },
    {
      "cell_type": "code",
      "source": [
        "# Import libraries\n",
        "import tensorflow as tf\n",
        "from tensorflow.keras.preprocessing.image import ImageDataGenerator\n",
        "from tensorflow.keras.applications import MobileNetV3Small\n",
        "from tensorflow.keras.applications import MobileNetV3Large\n",
        "from tensorflow.keras import layers, models\n",
        "from sklearn.metrics import classification_report, confusion_matrix\n",
        "import matplotlib.pyplot as plt\n",
        "import pandas as pd"
      ],
      "metadata": {
        "id": "QotfzPDxUzCh"
      },
      "execution_count": null,
      "outputs": []
    },
    {
      "cell_type": "code",
      "source": [
        "# Set the path to the dataset\n",
        "train_data_dir = '/content/drive/MyDrive/Univ/Semester 5/JST/CNN/train'\n",
        "test_data_dir = '/content/drive/MyDrive/Univ/Semester 5/JST/CNN/test'"
      ],
      "metadata": {
        "id": "7KqB2usbU1RN"
      },
      "execution_count": null,
      "outputs": []
    },
    {
      "cell_type": "code",
      "source": [
        "# Define parameters\n",
        "input_shape = (224, 224, 3)\n",
        "batch_size = 32\n",
        "epochs = 10\n",
        "learning_rate = 0.00001"
      ],
      "metadata": {
        "id": "cvDujiCEY9vt"
      },
      "execution_count": null,
      "outputs": []
    },
    {
      "cell_type": "code",
      "source": [
        "# Data augmentation for the training set\n",
        "train_datagen = ImageDataGenerator(shear_range=0.2, zoom_range=0.2, horizontal_flip=True)\n",
        "\n",
        "# Data augmentation for the test set (tanpa rescaling)\n",
        "test_datagen = ImageDataGenerator()"
      ],
      "metadata": {
        "id": "J8St3fHAU18b"
      },
      "execution_count": null,
      "outputs": []
    },
    {
      "cell_type": "code",
      "source": [
        "# Load the MobileNetV3Small model with pre-trained weights\n",
        "base_model_small = MobileNetV3Small(weights='imagenet', include_top=False, input_shape=input_shape)\n",
        "\n",
        "# Load the MobileNetV3Large model with pre-trained weights\n",
        "base_model_large = MobileNetV3Large(weights='imagenet', include_top=False, input_shape=input_shape)"
      ],
      "metadata": {
        "id": "P1zjlYd7ZMdY",
        "colab": {
          "base_uri": "https://localhost:8080/"
        },
        "outputId": "77afdac1-a0e0-4914-b78b-1c4deb2a1900"
      },
      "execution_count": null,
      "outputs": [
        {
          "output_type": "stream",
          "name": "stdout",
          "text": [
            "Downloading data from https://storage.googleapis.com/tensorflow/keras-applications/mobilenet_v3/weights_mobilenet_v3_small_224_1.0_float_no_top_v2.h5\n",
            "4334752/4334752 [==============================] - 0s 0us/step\n",
            "Downloading data from https://storage.googleapis.com/tensorflow/keras-applications/mobilenet_v3/weights_mobilenet_v3_large_224_1.0_float_no_top_v2.h5\n",
            "12683000/12683000 [==============================] - 0s 0us/step\n"
          ]
        }
      ]
    },
    {
      "cell_type": "code",
      "source": [
        "# Fine-tuning: Unfreeze some layers\n",
        "for layer in base_model_large.layers[-20:]:\n",
        "    layer.trainable = True"
      ],
      "metadata": {
        "id": "XKUlMZ3KZOhu"
      },
      "execution_count": null,
      "outputs": []
    },
    {
      "cell_type": "code",
      "source": [
        "# Build the CNN model\n",
        "model = models.Sequential()\n",
        "model.add(base_model_large)"
      ],
      "metadata": {
        "id": "qi1H-a5HZPwx"
      },
      "execution_count": null,
      "outputs": []
    },
    {
      "cell_type": "code",
      "source": [
        "# Add the remaining layers\n",
        "model.add(layers.GlobalAveragePooling2D())\n",
        "model.add(layers.Dense(128, activation='relu'))\n",
        "model.add(layers.Dropout(0.5))\n",
        "model.add(layers.Dense(3, activation='softmax'))"
      ],
      "metadata": {
        "id": "mt0GBMsLjZ7P"
      },
      "execution_count": null,
      "outputs": []
    },
    {
      "cell_type": "code",
      "source": [
        "# Compile the model\n",
        "model.compile(optimizer=tf.keras.optimizers.Adam(learning_rate),\n",
        "              loss='categorical_crossentropy',\n",
        "              metrics=['accuracy'])"
      ],
      "metadata": {
        "id": "aszpfGk3ZQoc"
      },
      "execution_count": null,
      "outputs": []
    },
    {
      "cell_type": "code",
      "source": [
        "# Data preparation\n",
        "train_generator = train_datagen.flow_from_directory(train_data_dir,\n",
        "                                                    target_size=(224, 224),\n",
        "                                                    batch_size=batch_size,\n",
        "                                                    class_mode='categorical')\n",
        "\n",
        "test_generator = test_datagen.flow_from_directory(test_data_dir,\n",
        "                                                  target_size=(224, 224),\n",
        "                                                  batch_size=batch_size,\n",
        "                                                  class_mode='categorical')"
      ],
      "metadata": {
        "colab": {
          "base_uri": "https://localhost:8080/"
        },
        "id": "Cfb9dQ7QZRpx",
        "outputId": "021cc7cb-20f7-48a7-9ac5-0e916aea160a"
      },
      "execution_count": null,
      "outputs": [
        {
          "output_type": "stream",
          "name": "stdout",
          "text": [
            "Found 2278 images belonging to 3 classes.\n",
            "Found 569 images belonging to 3 classes.\n"
          ]
        }
      ]
    },
    {
      "cell_type": "code",
      "source": [
        "# Train the model\n",
        "history = model.fit(train_generator,\n",
        "                    steps_per_epoch=train_generator.samples // batch_size,\n",
        "                    epochs=epochs,\n",
        "                    validation_data=test_generator,\n",
        "                    validation_steps=test_generator.samples // batch_size)"
      ],
      "metadata": {
        "colab": {
          "base_uri": "https://localhost:8080/"
        },
        "id": "LF4GuY7AZSqT",
        "outputId": "825051bf-8d4f-44c2-d315-e7501a4ea320"
      },
      "execution_count": null,
      "outputs": [
        {
          "output_type": "stream",
          "name": "stdout",
          "text": [
            "Epoch 1/10\n",
            "71/71 [==============================] - 628s 8s/step - loss: 1.4659 - accuracy: 0.3584 - val_loss: 1.3022 - val_accuracy: 0.3327\n",
            "Epoch 2/10\n",
            "71/71 [==============================] - 37s 514ms/step - loss: 1.2867 - accuracy: 0.4092 - val_loss: 1.2330 - val_accuracy: 0.3511\n",
            "Epoch 3/10\n",
            "71/71 [==============================] - 38s 541ms/step - loss: 1.1866 - accuracy: 0.4435 - val_loss: 1.1857 - val_accuracy: 0.3732\n",
            "Epoch 4/10\n",
            "71/71 [==============================] - 37s 516ms/step - loss: 1.1025 - accuracy: 0.4773 - val_loss: 1.1502 - val_accuracy: 0.3824\n",
            "Epoch 5/10\n",
            "71/71 [==============================] - 36s 504ms/step - loss: 1.0758 - accuracy: 0.5018 - val_loss: 1.1089 - val_accuracy: 0.4191\n",
            "Epoch 6/10\n",
            "71/71 [==============================] - 40s 567ms/step - loss: 1.0307 - accuracy: 0.5111 - val_loss: 1.0757 - val_accuracy: 0.4338\n",
            "Epoch 7/10\n",
            "71/71 [==============================] - 36s 503ms/step - loss: 0.9797 - accuracy: 0.5383 - val_loss: 1.0417 - val_accuracy: 0.4540\n",
            "Epoch 8/10\n",
            "71/71 [==============================] - 37s 515ms/step - loss: 0.9411 - accuracy: 0.5561 - val_loss: 0.9984 - val_accuracy: 0.5037\n",
            "Epoch 9/10\n",
            "71/71 [==============================] - 40s 553ms/step - loss: 0.9320 - accuracy: 0.5606 - val_loss: 0.9595 - val_accuracy: 0.5294\n",
            "Epoch 10/10\n",
            "71/71 [==============================] - 38s 533ms/step - loss: 0.9257 - accuracy: 0.5730 - val_loss: 0.9228 - val_accuracy: 0.5588\n"
          ]
        }
      ]
    },
    {
      "cell_type": "code",
      "source": [
        "# Visualize training history\n",
        "plt.plot(history.history['accuracy'], label='Training Accuracy')\n",
        "plt.plot(history.history['val_accuracy'], label='Validation Accuracy')\n",
        "plt.title('Training and Validation Accuracy')\n",
        "plt.xlabel('Epoch')\n",
        "plt.ylabel('Accuracy')\n",
        "plt.legend()\n",
        "plt.show()"
      ],
      "metadata": {
        "colab": {
          "base_uri": "https://localhost:8080/",
          "height": 472
        },
        "id": "RO2QhebnZlJS",
        "outputId": "677f42d3-5edc-4c89-eba1-937a926a6f8f"
      },
      "execution_count": null,
      "outputs": [
        {
          "output_type": "display_data",
          "data": {
            "text/plain": [
              "<Figure size 640x480 with 1 Axes>"
            ],
            "image/png": "[encoded data removed]"
          },
          "metadata": {}
        }
      ]
    },
    {
      "cell_type": "code",
      "source": [
        "# Evaluate the model on the test set\n",
        "test_loss, test_acc = model.evaluate(test_generator, steps=test_generator.samples // batch_size)"
      ],
      "metadata": {
        "colab": {
          "base_uri": "https://localhost:8080/"
        },
        "id": "zHd5gsPPZTXf",
        "outputId": "a0f8d64d-1996-46a8-d7d8-7e199b2d1621"
      },
      "execution_count": null,
      "outputs": [
        {
          "output_type": "stream",
          "name": "stdout",
          "text": [
            "17/17 [==============================] - 2s 97ms/step - loss: 0.9241 - accuracy: 0.5607\n"
          ]
        }
      ]
    },
    {
      "cell_type": "code",
      "source": [
        "# Generate predictions\n",
        "y_pred = model.predict(test_generator, steps=test_generator.samples // batch_size)\n",
        "y_pred_classes = tf.argmax(y_pred, axis=1)\n",
        "y_true_classes = test_generator.classes[:len(y_pred_classes)]  # Sesuaikan ukuran y_true_classes"
      ],
      "metadata": {
        "colab": {
          "base_uri": "https://localhost:8080/"
        },
        "id": "Y4Fl6QMfZUFG",
        "outputId": "b14def86-fbd2-470d-fd2c-21919aeca982"
      },
      "execution_count": null,
      "outputs": [
        {
          "output_type": "stream",
          "name": "stdout",
          "text": [
            "17/17 [==============================] - 3s 95ms/step\n"
          ]
        }
      ]
    },
    {
      "cell_type": "code",
      "source": [
        "# Print classification report and confusion matrix\n",
        "print(\"Classification Report:\\n\", classification_report(y_true_classes, y_pred_classes, zero_division=1))\n",
        "print(\"Confusion Matrix:\\n\", confusion_matrix(y_true_classes, y_pred_classes))"
      ],
      "metadata": {
        "colab": {
          "base_uri": "https://localhost:8080/"
        },
        "id": "KNJMO0YwZUwp",
        "outputId": "b6a4086a-3b60-4ee5-ff52-4a7e0f9b352e"
      },
      "execution_count": null,
      "outputs": [
        {
          "output_type": "stream",
          "name": "stdout",
          "text": [
            "Classification Report:\n",
            "               precision    recall  f1-score   support\n",
            "\n",
            "           0       0.41      0.47      0.44       213\n",
            "           1       0.36      0.29      0.32       207\n",
            "           2       0.31      0.34      0.33       124\n",
            "\n",
            "    accuracy                           0.37       544\n",
            "   macro avg       0.36      0.37      0.36       544\n",
            "weighted avg       0.37      0.37      0.37       544\n",
            "\n",
            "Confusion Matrix:\n",
            " [[100  70  43]\n",
            " [ 98  60  49]\n",
            " [ 44  38  42]]\n"
          ]
        }
      ]
    },
    {
      "cell_type": "code",
      "source": [
        "# Save the model\n",
        "model.save('emotion_classification_mobilenetv3_model.h5', include_optimizer=False)  # Menyimpan model tanpa optimizer"
      ],
      "metadata": {
        "colab": {
          "base_uri": "https://localhost:8080/"
        },
        "id": "U6NcGhsdZVes",
        "outputId": "ececc03d-91f8-4390-aefa-e1cf6aff29b2"
      },
      "execution_count": null,
      "outputs": [
        {
          "output_type": "stream",
          "name": "stderr",
          "text": [
            "/usr/local/lib/python3.10/dist-packages/keras/src/engine/training.py:3103: UserWarning: You are saving your model as an HDF5 file via `model.save()`. This file format is considered legacy. We recommend using instead the native Keras format, e.g. `model.save('my_model.keras')`.\n",
            "  saving_api.save_model(\n"
          ]
        }
      ]
    },
    {
      "cell_type": "code",
      "source": [
        "# Save results to a Google Sheet\n",
        "results_df = pd.DataFrame({\n",
        "    'Model': ['MobileNetV3'],\n",
        "    'Accuracy': [test_acc],\n",
        "    'Loss': [test_loss],\n",
        "    'Additional Metrics': ['F1 Score, etc.']\n",
        "})\n",
        "\n",
        "results_df.to_csv('model_results.csv', index=False)"
      ],
      "metadata": {
        "id": "mj47HKmcZWHT"
      },
      "execution_count": null,
      "outputs": []
    }
  ]
}